{
 "cells": [
  {
   "cell_type": "code",
   "execution_count": null,
   "metadata": {
    "_cell_guid": "b1076dfc-b9ad-4769-8c92-a6c4dae69d19",
    "_uuid": "8f2839f25d086af736a60e9eeb907d3b93b6e0e5",
    "execution": {
     "iopub.execute_input": "2023-04-19T09:56:58.459453Z",
     "iopub.status.busy": "2023-04-19T09:56:58.459016Z",
     "iopub.status.idle": "2023-04-19T09:57:11.677726Z",
     "shell.execute_reply": "2023-04-19T09:57:11.676687Z",
     "shell.execute_reply.started": "2023-04-19T09:56:58.459414Z"
    },
    "trusted": true
   },
   "outputs": [],
   "source": [
    "# This Python 3 environment comes with many helpful analytics libraries installed\n",
    "# It is defined by the kaggle/python Docker image: https://github.com/kaggle/docker-python\n",
    "# For example, here's several helpful packages to load\n",
    "\n",
    "import numpy as np # linear algebra\n",
    "import pandas as pd # data processing, CSV file I/O (e.g. pd.read_csv)\n",
    "\n",
    "# Input data files are available in the read-only \"../input/\" directory\n",
    "# For example, running this (by clicking run or pressing Shift+Enter) will list all files under the input directory\n",
    "\n",
    "import os\n",
    "for dirname, _, filenames in os.walk('/kaggle/input'):\n",
    "    for filename in filenames:\n",
    "        print(os.path.join(dirname, filename))\n",
    "\n",
    "# You can write up to 20GB to the current directory (/kaggle/working/) that gets preserved as output when you create a version using \"Save & Run All\" \n",
    "# You can also write temporary files to /kaggle/temp/, but they won't be saved outside of the current session"
   ]
  },
  {
   "cell_type": "code",
   "execution_count": 25,
   "metadata": {
    "execution": {
     "iopub.execute_input": "2023-04-19T09:57:11.680208Z",
     "iopub.status.busy": "2023-04-19T09:57:11.679638Z",
     "iopub.status.idle": "2023-04-19T09:57:11.695435Z",
     "shell.execute_reply": "2023-04-19T09:57:11.694014Z",
     "shell.execute_reply.started": "2023-04-19T09:57:11.680161Z"
    },
    "trusted": true
   },
   "outputs": [],
   "source": [
    "import sys\n",
    "\n",
    "from typing import Dict, Optional, Tuple\n",
    "from pathlib import Path\n",
    "\n",
    "import math\n",
    "\n",
    "import tensorflow as tf\n",
    "from tensorflow import keras\n",
    "\n",
    "import seaborn as sns\n",
    "import matplotlib.pyplot as plt\n",
    "\n",
    "from tensorflow.keras.preprocessing.image import ImageDataGenerator\n",
    "\n",
    "from sklearn import preprocessing\n",
    "from sklearn.model_selection import train_test_split\n",
    "\n",
    "from tensorflow.keras import backend #Keras version 2.1.6\n",
    "from tensorflow.keras.models import Model\n",
    "from tensorflow.keras.layers import Dense, Dropout, Activation, Flatten, Concatenate, LeakyReLU, Input, Conv2D, MaxPooling2D \n",
    "\n",
    "from tensorflow.keras import layers\n",
    "\n",
    "from tensorflow.keras.optimizers import Adam, SGD\n",
    "from tensorflow.keras.callbacks import EarlyStopping, ModelCheckpoint\n",
    "from tensorflow.keras.preprocessing import image\n",
    "#from PIL import Image\n",
    "\n",
    "from sklearn.metrics import r2_score\n",
    "from sklearn.utils import shuffle\n",
    "\n",
    "%matplotlib inline"
   ]
  },
  {
   "cell_type": "code",
   "execution_count": 26,
   "metadata": {
    "execution": {
     "iopub.execute_input": "2023-04-19T09:57:11.697983Z",
     "iopub.status.busy": "2023-04-19T09:57:11.697295Z",
     "iopub.status.idle": "2023-04-19T09:57:11.754651Z",
     "shell.execute_reply": "2023-04-19T09:57:11.753392Z",
     "shell.execute_reply.started": "2023-04-19T09:57:11.697947Z"
    },
    "trusted": true
   },
   "outputs": [
    {
     "data": {
      "text/html": [
       "<div>\n",
       "<style scoped>\n",
       "    .dataframe tbody tr th:only-of-type {\n",
       "        vertical-align: middle;\n",
       "    }\n",
       "\n",
       "    .dataframe tbody tr th {\n",
       "        vertical-align: top;\n",
       "    }\n",
       "\n",
       "    .dataframe thead th {\n",
       "        text-align: right;\n",
       "    }\n",
       "</style>\n",
       "<table border=\"1\" class=\"dataframe\">\n",
       "  <thead>\n",
       "    <tr style=\"text-align: right;\">\n",
       "      <th></th>\n",
       "      <th>Location</th>\n",
       "      <th>Filename</th>\n",
       "      <th>Year</th>\n",
       "      <th>Month</th>\n",
       "      <th>Day</th>\n",
       "      <th>Hour</th>\n",
       "      <th>AQI</th>\n",
       "      <th>PM2.5</th>\n",
       "      <th>PM10</th>\n",
       "      <th>O3</th>\n",
       "      <th>CO</th>\n",
       "      <th>SO2</th>\n",
       "      <th>NO2</th>\n",
       "      <th>AQI_Class</th>\n",
       "    </tr>\n",
       "  </thead>\n",
       "  <tbody>\n",
       "    <tr>\n",
       "      <th>0</th>\n",
       "      <td>Biratnagar, Nepal</td>\n",
       "      <td>BRI_Un_2023-02-02- 12.00-9.jpg</td>\n",
       "      <td>2023</td>\n",
       "      <td>2</td>\n",
       "      <td>2</td>\n",
       "      <td>12:00</td>\n",
       "      <td>158</td>\n",
       "      <td>70.08</td>\n",
       "      <td>100.82</td>\n",
       "      <td>58.89</td>\n",
       "      <td>0.49</td>\n",
       "      <td>4.4</td>\n",
       "      <td>1.04</td>\n",
       "      <td>d_Unhealthy</td>\n",
       "    </tr>\n",
       "    <tr>\n",
       "      <th>1</th>\n",
       "      <td>Biratnagar, Nepal</td>\n",
       "      <td>BRI_Un_2023-02-02- 12.00-8.jpg</td>\n",
       "      <td>2023</td>\n",
       "      <td>2</td>\n",
       "      <td>2</td>\n",
       "      <td>12:00</td>\n",
       "      <td>158</td>\n",
       "      <td>70.08</td>\n",
       "      <td>100.82</td>\n",
       "      <td>58.89</td>\n",
       "      <td>0.49</td>\n",
       "      <td>4.4</td>\n",
       "      <td>1.04</td>\n",
       "      <td>d_Unhealthy</td>\n",
       "    </tr>\n",
       "    <tr>\n",
       "      <th>2</th>\n",
       "      <td>Biratnagar, Nepal</td>\n",
       "      <td>BRI_Un_2023-02-02- 12.00-7.jpg</td>\n",
       "      <td>2023</td>\n",
       "      <td>2</td>\n",
       "      <td>2</td>\n",
       "      <td>12:00</td>\n",
       "      <td>158</td>\n",
       "      <td>70.08</td>\n",
       "      <td>100.82</td>\n",
       "      <td>58.89</td>\n",
       "      <td>0.49</td>\n",
       "      <td>4.4</td>\n",
       "      <td>1.04</td>\n",
       "      <td>d_Unhealthy</td>\n",
       "    </tr>\n",
       "    <tr>\n",
       "      <th>3</th>\n",
       "      <td>Biratnagar, Nepal</td>\n",
       "      <td>BRI_Un_2023-02-02- 12.00-6.jpg</td>\n",
       "      <td>2023</td>\n",
       "      <td>2</td>\n",
       "      <td>2</td>\n",
       "      <td>12:00</td>\n",
       "      <td>158</td>\n",
       "      <td>70.08</td>\n",
       "      <td>100.82</td>\n",
       "      <td>58.89</td>\n",
       "      <td>0.49</td>\n",
       "      <td>4.4</td>\n",
       "      <td>1.04</td>\n",
       "      <td>d_Unhealthy</td>\n",
       "    </tr>\n",
       "    <tr>\n",
       "      <th>4</th>\n",
       "      <td>Biratnagar, Nepal</td>\n",
       "      <td>BRI_Un_2023-02-02- 12.00-5.jpg</td>\n",
       "      <td>2023</td>\n",
       "      <td>2</td>\n",
       "      <td>2</td>\n",
       "      <td>12:00</td>\n",
       "      <td>158</td>\n",
       "      <td>70.08</td>\n",
       "      <td>100.82</td>\n",
       "      <td>58.89</td>\n",
       "      <td>0.49</td>\n",
       "      <td>4.4</td>\n",
       "      <td>1.04</td>\n",
       "      <td>d_Unhealthy</td>\n",
       "    </tr>\n",
       "  </tbody>\n",
       "</table>\n",
       "</div>"
      ],
      "text/plain": [
       "            Location                        Filename  Year  Month  Day   Hour  \\\n",
       "0  Biratnagar, Nepal  BRI_Un_2023-02-02- 12.00-9.jpg  2023      2    2  12:00   \n",
       "1  Biratnagar, Nepal  BRI_Un_2023-02-02- 12.00-8.jpg  2023      2    2  12:00   \n",
       "2  Biratnagar, Nepal  BRI_Un_2023-02-02- 12.00-7.jpg  2023      2    2  12:00   \n",
       "3  Biratnagar, Nepal  BRI_Un_2023-02-02- 12.00-6.jpg  2023      2    2  12:00   \n",
       "4  Biratnagar, Nepal  BRI_Un_2023-02-02- 12.00-5.jpg  2023      2    2  12:00   \n",
       "\n",
       "   AQI  PM2.5    PM10     O3    CO  SO2   NO2    AQI_Class  \n",
       "0  158  70.08  100.82  58.89  0.49  4.4  1.04  d_Unhealthy  \n",
       "1  158  70.08  100.82  58.89  0.49  4.4  1.04  d_Unhealthy  \n",
       "2  158  70.08  100.82  58.89  0.49  4.4  1.04  d_Unhealthy  \n",
       "3  158  70.08  100.82  58.89  0.49  4.4  1.04  d_Unhealthy  \n",
       "4  158  70.08  100.82  58.89  0.49  4.4  1.04  d_Unhealthy  "
      ]
     },
     "execution_count": 26,
     "metadata": {},
     "output_type": "execute_result"
    }
   ],
   "source": [
    "df = pd.read_csv('kaggle/input/Air Pollution Image Dataset/Air Pollution Image Dataset/Combined_Dataset/IND_and_Nep_AQI_Dataset.csv')\n",
    "df.head()"
   ]
  },
  {
   "cell_type": "code",
   "execution_count": 27,
   "metadata": {
    "execution": {
     "iopub.execute_input": "2023-04-19T09:57:11.758582Z",
     "iopub.status.busy": "2023-04-19T09:57:11.758135Z",
     "iopub.status.idle": "2023-04-19T09:57:11.851547Z",
     "shell.execute_reply": "2023-04-19T09:57:11.850268Z",
     "shell.execute_reply.started": "2023-04-19T09:57:11.758543Z"
    },
    "trusted": true
   },
   "outputs": [],
   "source": [
    "df = shuffle(df)\n",
    "\n",
    "df.sample(frac=1).reset_index(drop=True)\n",
    "\n",
    "number_of_rows = 3000\n",
    "sub_dfs = [df[i:i + number_of_rows] for i in range(0, df.shape[0], number_of_rows)]\n",
    "for idx, sub_df in enumerate(sub_dfs):\n",
    "    sub_df.to_csv(f'frag3000_{idx}.csv', index=False)"
   ]
  },
  {
   "cell_type": "code",
   "execution_count": 28,
   "metadata": {
    "execution": {
     "iopub.execute_input": "2023-04-19T09:57:11.853625Z",
     "iopub.status.busy": "2023-04-19T09:57:11.853187Z",
     "iopub.status.idle": "2023-04-19T09:57:11.895215Z",
     "shell.execute_reply": "2023-04-19T09:57:11.893998Z",
     "shell.execute_reply.started": "2023-04-19T09:57:11.853583Z"
    },
    "trusted": true
   },
   "outputs": [
    {
     "data": {
      "text/html": [
       "<div>\n",
       "<style scoped>\n",
       "    .dataframe tbody tr th:only-of-type {\n",
       "        vertical-align: middle;\n",
       "    }\n",
       "\n",
       "    .dataframe tbody tr th {\n",
       "        vertical-align: top;\n",
       "    }\n",
       "\n",
       "    .dataframe thead th {\n",
       "        text-align: right;\n",
       "    }\n",
       "</style>\n",
       "<table border=\"1\" class=\"dataframe\">\n",
       "  <thead>\n",
       "    <tr style=\"text-align: right;\">\n",
       "      <th></th>\n",
       "      <th>Location</th>\n",
       "      <th>Filename</th>\n",
       "      <th>Year</th>\n",
       "      <th>Month</th>\n",
       "      <th>Day</th>\n",
       "      <th>Hour</th>\n",
       "      <th>AQI</th>\n",
       "      <th>PM2.5</th>\n",
       "      <th>PM10</th>\n",
       "      <th>O3</th>\n",
       "      <th>CO</th>\n",
       "      <th>SO2</th>\n",
       "      <th>NO2</th>\n",
       "      <th>AQI_Class</th>\n",
       "    </tr>\n",
       "  </thead>\n",
       "  <tbody>\n",
       "    <tr>\n",
       "      <th>0</th>\n",
       "      <td>ITO, Delhi</td>\n",
       "      <td>DEL_VUH_2023-02-04-17.00-2-161.jpg</td>\n",
       "      <td>2023</td>\n",
       "      <td>2</td>\n",
       "      <td>4</td>\n",
       "      <td>17:00</td>\n",
       "      <td>281</td>\n",
       "      <td>174.00</td>\n",
       "      <td>132.00</td>\n",
       "      <td>97.00</td>\n",
       "      <td>24.00</td>\n",
       "      <td>19.00</td>\n",
       "      <td>71.00</td>\n",
       "      <td>e_Very_Unhealthy</td>\n",
       "    </tr>\n",
       "    <tr>\n",
       "      <th>1</th>\n",
       "      <td>Biratnagar, Nepal</td>\n",
       "      <td>BIR_UNFSG_VF_2023-02-03-16.00-1-93.jpg</td>\n",
       "      <td>2023</td>\n",
       "      <td>2</td>\n",
       "      <td>3</td>\n",
       "      <td>16:00</td>\n",
       "      <td>141</td>\n",
       "      <td>50.29</td>\n",
       "      <td>72.18</td>\n",
       "      <td>59.66</td>\n",
       "      <td>0.45</td>\n",
       "      <td>2.60</td>\n",
       "      <td>4.19</td>\n",
       "      <td>c_Unhealthy_for_Sensitive_Groups</td>\n",
       "    </tr>\n",
       "    <tr>\n",
       "      <th>2</th>\n",
       "      <td>ITO, Delhi</td>\n",
       "      <td>DEL_SEV_2023-02-20-14.00-3-366.jpg</td>\n",
       "      <td>2023</td>\n",
       "      <td>2</td>\n",
       "      <td>20</td>\n",
       "      <td>14:00</td>\n",
       "      <td>363</td>\n",
       "      <td>257.00</td>\n",
       "      <td>139.00</td>\n",
       "      <td>41.00</td>\n",
       "      <td>65.00</td>\n",
       "      <td>35.00</td>\n",
       "      <td>83.00</td>\n",
       "      <td>f_Severe</td>\n",
       "    </tr>\n",
       "    <tr>\n",
       "      <th>3</th>\n",
       "      <td>Bengaluru</td>\n",
       "      <td>BENGR_Good_2023-02-26-08.30-1-251.jpg</td>\n",
       "      <td>2023</td>\n",
       "      <td>2</td>\n",
       "      <td>26</td>\n",
       "      <td>8:30</td>\n",
       "      <td>48</td>\n",
       "      <td>24.00</td>\n",
       "      <td>47.00</td>\n",
       "      <td>17.00</td>\n",
       "      <td>210.00</td>\n",
       "      <td>13.00</td>\n",
       "      <td>14.00</td>\n",
       "      <td>a_Good</td>\n",
       "    </tr>\n",
       "    <tr>\n",
       "      <th>4</th>\n",
       "      <td>Dimapur, Nagaland</td>\n",
       "      <td>Dimapur_MOD_2023-02-10-08.30-1-41.jpg</td>\n",
       "      <td>2023</td>\n",
       "      <td>2</td>\n",
       "      <td>10</td>\n",
       "      <td>8:30</td>\n",
       "      <td>63</td>\n",
       "      <td>31.00</td>\n",
       "      <td>52.00</td>\n",
       "      <td>10.00</td>\n",
       "      <td>6.00</td>\n",
       "      <td>4.00</td>\n",
       "      <td>2.00</td>\n",
       "      <td>b_Moderate</td>\n",
       "    </tr>\n",
       "    <tr>\n",
       "      <th>5</th>\n",
       "      <td>ITO, Delhi</td>\n",
       "      <td>DEL_SEV_2023-02-07-14.00-2-25.jpg</td>\n",
       "      <td>2023</td>\n",
       "      <td>2</td>\n",
       "      <td>7</td>\n",
       "      <td>14:00</td>\n",
       "      <td>449</td>\n",
       "      <td>337.00</td>\n",
       "      <td>198.00</td>\n",
       "      <td>23.00</td>\n",
       "      <td>24.00</td>\n",
       "      <td>13.00</td>\n",
       "      <td>57.00</td>\n",
       "      <td>f_Severe</td>\n",
       "    </tr>\n",
       "    <tr>\n",
       "      <th>6</th>\n",
       "      <td>Biratnagar, Nepal</td>\n",
       "      <td>BIR_UNH_VF_2023-02-02- 1700-3-24.jpg</td>\n",
       "      <td>2023</td>\n",
       "      <td>2</td>\n",
       "      <td>2</td>\n",
       "      <td>17:00</td>\n",
       "      <td>156</td>\n",
       "      <td>67.06</td>\n",
       "      <td>95.93</td>\n",
       "      <td>52.38</td>\n",
       "      <td>0.52</td>\n",
       "      <td>3.35</td>\n",
       "      <td>6.49</td>\n",
       "      <td>d_Unhealthy</td>\n",
       "    </tr>\n",
       "    <tr>\n",
       "      <th>7</th>\n",
       "      <td>Biratnagar, Nepal</td>\n",
       "      <td>BIR_UNH_VF_2023-02-02- 12.00-1-25.jpg</td>\n",
       "      <td>2023</td>\n",
       "      <td>2</td>\n",
       "      <td>2</td>\n",
       "      <td>12:00</td>\n",
       "      <td>158</td>\n",
       "      <td>70.08</td>\n",
       "      <td>100.82</td>\n",
       "      <td>58.89</td>\n",
       "      <td>0.49</td>\n",
       "      <td>4.40</td>\n",
       "      <td>1.04</td>\n",
       "      <td>d_Unhealthy</td>\n",
       "    </tr>\n",
       "    <tr>\n",
       "      <th>8</th>\n",
       "      <td>Mumbai</td>\n",
       "      <td>MH_UnFSG_2023-03-10-16.00-1-41.jpg</td>\n",
       "      <td>2023</td>\n",
       "      <td>3</td>\n",
       "      <td>10</td>\n",
       "      <td>16:00</td>\n",
       "      <td>141</td>\n",
       "      <td>72.00</td>\n",
       "      <td>108.00</td>\n",
       "      <td>NaN</td>\n",
       "      <td>NaN</td>\n",
       "      <td>NaN</td>\n",
       "      <td>63.00</td>\n",
       "      <td>c_Unhealthy_for_Sensitive_Groups</td>\n",
       "    </tr>\n",
       "    <tr>\n",
       "      <th>9</th>\n",
       "      <td>Mumbai</td>\n",
       "      <td>MH_UnFSG_2023-02-15-10.30-1-42.jpg</td>\n",
       "      <td>2023</td>\n",
       "      <td>2</td>\n",
       "      <td>15</td>\n",
       "      <td>10:00</td>\n",
       "      <td>143</td>\n",
       "      <td>334.00</td>\n",
       "      <td>276.00</td>\n",
       "      <td>14.00</td>\n",
       "      <td>77.00</td>\n",
       "      <td>NaN</td>\n",
       "      <td>160.00</td>\n",
       "      <td>c_Unhealthy_for_Sensitive_Groups</td>\n",
       "    </tr>\n",
       "    <tr>\n",
       "      <th>10</th>\n",
       "      <td>Mumbai</td>\n",
       "      <td>MH_Good_2023-03-22-18.00-1-457.jpg</td>\n",
       "      <td>2023</td>\n",
       "      <td>3</td>\n",
       "      <td>22</td>\n",
       "      <td>18:00</td>\n",
       "      <td>47</td>\n",
       "      <td>21.00</td>\n",
       "      <td>43.00</td>\n",
       "      <td>37.00</td>\n",
       "      <td>4.00</td>\n",
       "      <td>8.00</td>\n",
       "      <td>7.00</td>\n",
       "      <td>a_Good</td>\n",
       "    </tr>\n",
       "    <tr>\n",
       "      <th>11</th>\n",
       "      <td>New Ind Town, Faridabad</td>\n",
       "      <td>HAR_VUN_2022-10-02-10.00-1-1953.jpg</td>\n",
       "      <td>2022</td>\n",
       "      <td>10</td>\n",
       "      <td>2</td>\n",
       "      <td>10:00</td>\n",
       "      <td>230</td>\n",
       "      <td>185.00</td>\n",
       "      <td>199.00</td>\n",
       "      <td>10.00</td>\n",
       "      <td>52.00</td>\n",
       "      <td>12.00</td>\n",
       "      <td>26.00</td>\n",
       "      <td>e_Very_Unhealthy</td>\n",
       "    </tr>\n",
       "    <tr>\n",
       "      <th>12</th>\n",
       "      <td>New Ind Town, Faridabad</td>\n",
       "      <td>HAR_VUN_2022-10-02-10.00-1-3081.jpg</td>\n",
       "      <td>2022</td>\n",
       "      <td>10</td>\n",
       "      <td>2</td>\n",
       "      <td>10:00</td>\n",
       "      <td>230</td>\n",
       "      <td>185.00</td>\n",
       "      <td>199.00</td>\n",
       "      <td>10.00</td>\n",
       "      <td>52.00</td>\n",
       "      <td>12.00</td>\n",
       "      <td>26.00</td>\n",
       "      <td>e_Very_Unhealthy</td>\n",
       "    </tr>\n",
       "    <tr>\n",
       "      <th>13</th>\n",
       "      <td>Biratnagar, Nepal</td>\n",
       "      <td>BIR_UNFSG_VF_2023-02-03-15.00-3-2.jpg</td>\n",
       "      <td>2023</td>\n",
       "      <td>2</td>\n",
       "      <td>3</td>\n",
       "      <td>15:00</td>\n",
       "      <td>141</td>\n",
       "      <td>47.96</td>\n",
       "      <td>68.92</td>\n",
       "      <td>65.57</td>\n",
       "      <td>0.41</td>\n",
       "      <td>2.80</td>\n",
       "      <td>2.51</td>\n",
       "      <td>c_Unhealthy_for_Sensitive_Groups</td>\n",
       "    </tr>\n",
       "    <tr>\n",
       "      <th>14</th>\n",
       "      <td>Bengaluru</td>\n",
       "      <td>BENGR_Good_2023-03-21-08.30-1-15.jpg</td>\n",
       "      <td>2023</td>\n",
       "      <td>3</td>\n",
       "      <td>21</td>\n",
       "      <td>8:30</td>\n",
       "      <td>47</td>\n",
       "      <td>22.00</td>\n",
       "      <td>47.00</td>\n",
       "      <td>17.00</td>\n",
       "      <td>271.00</td>\n",
       "      <td>3.00</td>\n",
       "      <td>17.00</td>\n",
       "      <td>a_Good</td>\n",
       "    </tr>\n",
       "  </tbody>\n",
       "</table>\n",
       "</div>"
      ],
      "text/plain": [
       "                   Location                                Filename  Year  \\\n",
       "0                ITO, Delhi      DEL_VUH_2023-02-04-17.00-2-161.jpg  2023   \n",
       "1         Biratnagar, Nepal  BIR_UNFSG_VF_2023-02-03-16.00-1-93.jpg  2023   \n",
       "2                ITO, Delhi      DEL_SEV_2023-02-20-14.00-3-366.jpg  2023   \n",
       "3                 Bengaluru   BENGR_Good_2023-02-26-08.30-1-251.jpg  2023   \n",
       "4         Dimapur, Nagaland   Dimapur_MOD_2023-02-10-08.30-1-41.jpg  2023   \n",
       "5                ITO, Delhi       DEL_SEV_2023-02-07-14.00-2-25.jpg  2023   \n",
       "6         Biratnagar, Nepal    BIR_UNH_VF_2023-02-02- 1700-3-24.jpg  2023   \n",
       "7         Biratnagar, Nepal   BIR_UNH_VF_2023-02-02- 12.00-1-25.jpg  2023   \n",
       "8                    Mumbai      MH_UnFSG_2023-03-10-16.00-1-41.jpg  2023   \n",
       "9                    Mumbai      MH_UnFSG_2023-02-15-10.30-1-42.jpg  2023   \n",
       "10                   Mumbai      MH_Good_2023-03-22-18.00-1-457.jpg  2023   \n",
       "11  New Ind Town, Faridabad     HAR_VUN_2022-10-02-10.00-1-1953.jpg  2022   \n",
       "12  New Ind Town, Faridabad     HAR_VUN_2022-10-02-10.00-1-3081.jpg  2022   \n",
       "13        Biratnagar, Nepal   BIR_UNFSG_VF_2023-02-03-15.00-3-2.jpg  2023   \n",
       "14                Bengaluru    BENGR_Good_2023-03-21-08.30-1-15.jpg  2023   \n",
       "\n",
       "    Month  Day   Hour  AQI   PM2.5    PM10     O3      CO    SO2     NO2  \\\n",
       "0       2    4  17:00  281  174.00  132.00  97.00   24.00  19.00   71.00   \n",
       "1       2    3  16:00  141   50.29   72.18  59.66    0.45   2.60    4.19   \n",
       "2       2   20  14:00  363  257.00  139.00  41.00   65.00  35.00   83.00   \n",
       "3       2   26   8:30   48   24.00   47.00  17.00  210.00  13.00   14.00   \n",
       "4       2   10   8:30   63   31.00   52.00  10.00    6.00   4.00    2.00   \n",
       "5       2    7  14:00  449  337.00  198.00  23.00   24.00  13.00   57.00   \n",
       "6       2    2  17:00  156   67.06   95.93  52.38    0.52   3.35    6.49   \n",
       "7       2    2  12:00  158   70.08  100.82  58.89    0.49   4.40    1.04   \n",
       "8       3   10  16:00  141   72.00  108.00    NaN     NaN    NaN   63.00   \n",
       "9       2   15  10:00  143  334.00  276.00  14.00   77.00    NaN  160.00   \n",
       "10      3   22  18:00   47   21.00   43.00  37.00    4.00   8.00    7.00   \n",
       "11     10    2  10:00  230  185.00  199.00  10.00   52.00  12.00   26.00   \n",
       "12     10    2  10:00  230  185.00  199.00  10.00   52.00  12.00   26.00   \n",
       "13      2    3  15:00  141   47.96   68.92  65.57    0.41   2.80    2.51   \n",
       "14      3   21   8:30   47   22.00   47.00  17.00  271.00   3.00   17.00   \n",
       "\n",
       "                           AQI_Class  \n",
       "0                   e_Very_Unhealthy  \n",
       "1   c_Unhealthy_for_Sensitive_Groups  \n",
       "2                           f_Severe  \n",
       "3                             a_Good  \n",
       "4                         b_Moderate  \n",
       "5                           f_Severe  \n",
       "6                        d_Unhealthy  \n",
       "7                        d_Unhealthy  \n",
       "8   c_Unhealthy_for_Sensitive_Groups  \n",
       "9   c_Unhealthy_for_Sensitive_Groups  \n",
       "10                            a_Good  \n",
       "11                  e_Very_Unhealthy  \n",
       "12                  e_Very_Unhealthy  \n",
       "13  c_Unhealthy_for_Sensitive_Groups  \n",
       "14                            a_Good  "
      ]
     },
     "execution_count": 28,
     "metadata": {},
     "output_type": "execute_result"
    }
   ],
   "source": [
    "df = pd.read_csv('frag3000_1.csv')\n",
    "df.head(15)"
   ]
  },
  {
   "cell_type": "code",
   "execution_count": null,
   "metadata": {
    "execution": {
     "iopub.execute_input": "2023-04-19T09:57:11.897969Z",
     "iopub.status.busy": "2023-04-19T09:57:11.897364Z",
     "iopub.status.idle": "2023-04-19T09:57:11.905807Z",
     "shell.execute_reply": "2023-04-19T09:57:11.904397Z",
     "shell.execute_reply.started": "2023-04-19T09:57:11.897927Z"
    },
    "trusted": true
   },
   "outputs": [],
   "source": [
    "def build_x(path):\n",
    "    train_img = []\n",
    "    for i in range(df.shape[0]):\n",
    "        img = image.load_img(path + df['Filename'][i])\n",
    "        img = image.img_to_array(img)\n",
    "        img = tf.keras.applications.vgg16.preprocess_input(img)\n",
    "        #img = img / 255        # with respect to imagenet, no scaling be used\n",
    "        train_img.append(img)\n",
    "\n",
    "    x = np.array(train_img)\n",
    "    return x"
   ]
  },
  {
   "cell_type": "code",
   "execution_count": null,
   "metadata": {
    "execution": {
     "iopub.execute_input": "2023-04-19T09:58:41.306425Z",
     "iopub.status.busy": "2023-04-19T09:58:41.305916Z",
     "iopub.status.idle": "2023-04-19T09:59:06.888612Z",
     "shell.execute_reply": "2023-04-19T09:59:06.887329Z",
     "shell.execute_reply.started": "2023-04-19T09:58:41.306379Z"
    },
    "trusted": true
   },
   "outputs": [],
   "source": [
    "x_origin = build_x('kaggle/input/Air Pollution Image Dataset/Air Pollution Image Dataset/Combined_Dataset/All_img/')"
   ]
  },
  {
   "cell_type": "code",
   "execution_count": 31,
   "metadata": {
    "execution": {
     "iopub.execute_input": "2023-04-19T09:59:06.892051Z",
     "iopub.status.busy": "2023-04-19T09:59:06.891310Z",
     "iopub.status.idle": "2023-04-19T09:59:06.901842Z",
     "shell.execute_reply": "2023-04-19T09:59:06.900556Z",
     "shell.execute_reply.started": "2023-04-19T09:59:06.892009Z"
    },
    "trusted": true
   },
   "outputs": [
    {
     "data": {
      "text/plain": [
       "(3000, 224, 224, 3)"
      ]
     },
     "execution_count": 31,
     "metadata": {},
     "output_type": "execute_result"
    }
   ],
   "source": [
    "x_origin.shape"
   ]
  },
  {
   "cell_type": "code",
   "execution_count": 32,
   "metadata": {
    "execution": {
     "iopub.execute_input": "2023-04-19T09:59:06.904922Z",
     "iopub.status.busy": "2023-04-19T09:59:06.904500Z",
     "iopub.status.idle": "2023-04-19T09:59:06.925611Z",
     "shell.execute_reply": "2023-04-19T09:59:06.924546Z",
     "shell.execute_reply.started": "2023-04-19T09:59:06.904893Z"
    },
    "trusted": true
   },
   "outputs": [
    {
     "data": {
      "text/html": [
       "<div>\n",
       "<style scoped>\n",
       "    .dataframe tbody tr th:only-of-type {\n",
       "        vertical-align: middle;\n",
       "    }\n",
       "\n",
       "    .dataframe tbody tr th {\n",
       "        vertical-align: top;\n",
       "    }\n",
       "\n",
       "    .dataframe thead th {\n",
       "        text-align: right;\n",
       "    }\n",
       "</style>\n",
       "<table border=\"1\" class=\"dataframe\">\n",
       "  <thead>\n",
       "    <tr style=\"text-align: right;\">\n",
       "      <th></th>\n",
       "      <th>PM10</th>\n",
       "    </tr>\n",
       "  </thead>\n",
       "  <tbody>\n",
       "    <tr>\n",
       "      <th>0</th>\n",
       "      <td>132.00</td>\n",
       "    </tr>\n",
       "    <tr>\n",
       "      <th>1</th>\n",
       "      <td>72.18</td>\n",
       "    </tr>\n",
       "    <tr>\n",
       "      <th>2</th>\n",
       "      <td>139.00</td>\n",
       "    </tr>\n",
       "    <tr>\n",
       "      <th>3</th>\n",
       "      <td>47.00</td>\n",
       "    </tr>\n",
       "    <tr>\n",
       "      <th>4</th>\n",
       "      <td>52.00</td>\n",
       "    </tr>\n",
       "    <tr>\n",
       "      <th>...</th>\n",
       "      <td>...</td>\n",
       "    </tr>\n",
       "    <tr>\n",
       "      <th>2995</th>\n",
       "      <td>201.00</td>\n",
       "    </tr>\n",
       "    <tr>\n",
       "      <th>2996</th>\n",
       "      <td>180.00</td>\n",
       "    </tr>\n",
       "    <tr>\n",
       "      <th>2997</th>\n",
       "      <td>68.92</td>\n",
       "    </tr>\n",
       "    <tr>\n",
       "      <th>2998</th>\n",
       "      <td>139.00</td>\n",
       "    </tr>\n",
       "    <tr>\n",
       "      <th>2999</th>\n",
       "      <td>466.00</td>\n",
       "    </tr>\n",
       "  </tbody>\n",
       "</table>\n",
       "<p>3000 rows × 1 columns</p>\n",
       "</div>"
      ],
      "text/plain": [
       "        PM10\n",
       "0     132.00\n",
       "1      72.18\n",
       "2     139.00\n",
       "3      47.00\n",
       "4      52.00\n",
       "...      ...\n",
       "2995  201.00\n",
       "2996  180.00\n",
       "2997   68.92\n",
       "2998  139.00\n",
       "2999  466.00\n",
       "\n",
       "[3000 rows x 1 columns]"
      ]
     },
     "execution_count": 32,
     "metadata": {},
     "output_type": "execute_result"
    }
   ],
   "source": [
    "pm10 =pd.DataFrame(df['PM10'])\n",
    "pm10"
   ]
  },
  {
   "cell_type": "code",
   "execution_count": 33,
   "metadata": {
    "execution": {
     "iopub.execute_input": "2023-04-19T09:59:06.929820Z",
     "iopub.status.busy": "2023-04-19T09:59:06.929262Z",
     "iopub.status.idle": "2023-04-19T09:59:08.623335Z",
     "shell.execute_reply": "2023-04-19T09:59:08.622156Z",
     "shell.execute_reply.started": "2023-04-19T09:59:06.929763Z"
    },
    "trusted": true
   },
   "outputs": [],
   "source": [
    "x_origin_train, x_origin_temp, y_train, y_temp = train_test_split(x_origin, pm10, train_size=0.8, shuffle=True)"
   ]
  },
  {
   "cell_type": "code",
   "execution_count": 34,
   "metadata": {
    "execution": {
     "iopub.execute_input": "2023-04-19T09:59:12.431661Z",
     "iopub.status.busy": "2023-04-19T09:59:12.431275Z",
     "iopub.status.idle": "2023-04-19T09:59:12.743132Z",
     "shell.execute_reply": "2023-04-19T09:59:12.741992Z",
     "shell.execute_reply.started": "2023-04-19T09:59:12.431629Z"
    },
    "trusted": true
   },
   "outputs": [],
   "source": [
    "x_origin_valid, x_origin_test, y_valid, y_test = train_test_split(x_origin_temp, y_temp, test_size=0.5, shuffle=True)"
   ]
  },
  {
   "cell_type": "code",
   "execution_count": 35,
   "metadata": {
    "execution": {
     "iopub.execute_input": "2023-04-19T09:59:14.782405Z",
     "iopub.status.busy": "2023-04-19T09:59:14.782020Z",
     "iopub.status.idle": "2023-04-19T09:59:14.790581Z",
     "shell.execute_reply": "2023-04-19T09:59:14.789154Z",
     "shell.execute_reply.started": "2023-04-19T09:59:14.782368Z"
    },
    "trusted": true
   },
   "outputs": [
    {
     "data": {
      "text/plain": [
       "(2400, 224, 224, 3)"
      ]
     },
     "execution_count": 35,
     "metadata": {},
     "output_type": "execute_result"
    }
   ],
   "source": [
    "x_origin_train.shape"
   ]
  },
  {
   "cell_type": "code",
   "execution_count": 36,
   "metadata": {
    "execution": {
     "iopub.execute_input": "2023-04-19T09:59:17.151424Z",
     "iopub.status.busy": "2023-04-19T09:59:17.151037Z",
     "iopub.status.idle": "2023-04-19T09:59:17.159062Z",
     "shell.execute_reply": "2023-04-19T09:59:17.157895Z",
     "shell.execute_reply.started": "2023-04-19T09:59:17.151390Z"
    },
    "trusted": true
   },
   "outputs": [
    {
     "data": {
      "text/plain": [
       "(2400, 1)"
      ]
     },
     "execution_count": 36,
     "metadata": {},
     "output_type": "execute_result"
    }
   ],
   "source": [
    "y_train.shape"
   ]
  },
  {
   "cell_type": "code",
   "execution_count": 37,
   "metadata": {
    "execution": {
     "iopub.execute_input": "2023-04-19T09:59:19.255934Z",
     "iopub.status.busy": "2023-04-19T09:59:19.255518Z",
     "iopub.status.idle": "2023-04-19T09:59:19.351783Z",
     "shell.execute_reply": "2023-04-19T09:59:19.350713Z",
     "shell.execute_reply.started": "2023-04-19T09:59:19.255902Z"
    },
    "trusted": true
   },
   "outputs": [],
   "source": [
    "x_origin = []\n",
    "x_origin_temp = []\n",
    "y_temp = []\n",
    "y = []"
   ]
  },
  {
   "cell_type": "code",
   "execution_count": 38,
   "metadata": {
    "execution": {
     "iopub.execute_input": "2023-04-19T09:59:21.542520Z",
     "iopub.status.busy": "2023-04-19T09:59:21.541826Z",
     "iopub.status.idle": "2023-04-19T09:59:21.814296Z",
     "shell.execute_reply": "2023-04-19T09:59:21.813281Z",
     "shell.execute_reply.started": "2023-04-19T09:59:21.542482Z"
    },
    "trusted": true
   },
   "outputs": [
    {
     "name": "stderr",
     "output_type": "stream",
     "text": [
      "Clipping input data to the valid range for imshow with RGB data ([0..1] for floats or [0..255] for integers). Got range [-0.47717646..0.5492588].\n"
     ]
    },
    {
     "data": {
      "text/plain": [
       "<matplotlib.image.AxesImage at 0x731f3b7aff10>"
      ]
     },
     "execution_count": 38,
     "metadata": {},
     "output_type": "execute_result"
    },
    {
     "data": {
      "image/png": "[encoded data removed]",
      "text/plain": [
       "<Figure size 640x480 with 1 Axes>"
      ]
     },
     "metadata": {},
     "output_type": "display_data"
    }
   ],
   "source": [
    "plt.imshow(x_origin_test[10]/255)"
   ]
  },
  {
   "cell_type": "code",
   "execution_count": 39,
   "metadata": {
    "execution": {
     "iopub.execute_input": "2023-04-19T09:59:26.999133Z",
     "iopub.status.busy": "2023-04-19T09:59:26.998722Z",
     "iopub.status.idle": "2023-04-19T09:59:27.018417Z",
     "shell.execute_reply": "2023-04-19T09:59:27.016118Z",
     "shell.execute_reply.started": "2023-04-19T09:59:26.999095Z"
    },
    "trusted": true
   },
   "outputs": [
    {
     "data": {
      "text/html": [
       "<div>\n",
       "<style scoped>\n",
       "    .dataframe tbody tr th:only-of-type {\n",
       "        vertical-align: middle;\n",
       "    }\n",
       "\n",
       "    .dataframe tbody tr th {\n",
       "        vertical-align: top;\n",
       "    }\n",
       "\n",
       "    .dataframe thead th {\n",
       "        text-align: right;\n",
       "    }\n",
       "</style>\n",
       "<table border=\"1\" class=\"dataframe\">\n",
       "  <thead>\n",
       "    <tr style=\"text-align: right;\">\n",
       "      <th></th>\n",
       "      <th>PM10</th>\n",
       "    </tr>\n",
       "  </thead>\n",
       "  <tbody>\n",
       "    <tr>\n",
       "      <th>0</th>\n",
       "      <td>72.18</td>\n",
       "    </tr>\n",
       "    <tr>\n",
       "      <th>1</th>\n",
       "      <td>352.00</td>\n",
       "    </tr>\n",
       "    <tr>\n",
       "      <th>2</th>\n",
       "      <td>36.00</td>\n",
       "    </tr>\n",
       "    <tr>\n",
       "      <th>3</th>\n",
       "      <td>169.00</td>\n",
       "    </tr>\n",
       "    <tr>\n",
       "      <th>4</th>\n",
       "      <td>480.00</td>\n",
       "    </tr>\n",
       "    <tr>\n",
       "      <th>...</th>\n",
       "      <td>...</td>\n",
       "    </tr>\n",
       "    <tr>\n",
       "      <th>295</th>\n",
       "      <td>90.80</td>\n",
       "    </tr>\n",
       "    <tr>\n",
       "      <th>296</th>\n",
       "      <td>182.00</td>\n",
       "    </tr>\n",
       "    <tr>\n",
       "      <th>297</th>\n",
       "      <td>272.00</td>\n",
       "    </tr>\n",
       "    <tr>\n",
       "      <th>298</th>\n",
       "      <td>180.00</td>\n",
       "    </tr>\n",
       "    <tr>\n",
       "      <th>299</th>\n",
       "      <td>159.00</td>\n",
       "    </tr>\n",
       "  </tbody>\n",
       "</table>\n",
       "<p>300 rows × 1 columns</p>\n",
       "</div>"
      ],
      "text/plain": [
       "       PM10\n",
       "0     72.18\n",
       "1    352.00\n",
       "2     36.00\n",
       "3    169.00\n",
       "4    480.00\n",
       "..      ...\n",
       "295   90.80\n",
       "296  182.00\n",
       "297  272.00\n",
       "298  180.00\n",
       "299  159.00\n",
       "\n",
       "[300 rows x 1 columns]"
      ]
     },
     "execution_count": 39,
     "metadata": {},
     "output_type": "execute_result"
    }
   ],
   "source": [
    "y_test = y_test.reset_index(drop=True)\n",
    "y_test"
   ]
  },
  {
   "cell_type": "code",
   "execution_count": 40,
   "metadata": {
    "execution": {
     "iopub.execute_input": "2023-04-19T09:59:30.062133Z",
     "iopub.status.busy": "2023-04-19T09:59:30.061391Z",
     "iopub.status.idle": "2023-04-19T09:59:30.074762Z",
     "shell.execute_reply": "2023-04-19T09:59:30.073561Z",
     "shell.execute_reply.started": "2023-04-19T09:59:30.062095Z"
    },
    "trusted": true
   },
   "outputs": [
    {
     "data": {
      "text/html": [
       "<div>\n",
       "<style scoped>\n",
       "    .dataframe tbody tr th:only-of-type {\n",
       "        vertical-align: middle;\n",
       "    }\n",
       "\n",
       "    .dataframe tbody tr th {\n",
       "        vertical-align: top;\n",
       "    }\n",
       "\n",
       "    .dataframe thead th {\n",
       "        text-align: right;\n",
       "    }\n",
       "</style>\n",
       "<table border=\"1\" class=\"dataframe\">\n",
       "  <thead>\n",
       "    <tr style=\"text-align: right;\">\n",
       "      <th></th>\n",
       "      <th>PM10</th>\n",
       "    </tr>\n",
       "  </thead>\n",
       "  <tbody>\n",
       "    <tr>\n",
       "      <th>0</th>\n",
       "      <td>72.18</td>\n",
       "    </tr>\n",
       "    <tr>\n",
       "      <th>1</th>\n",
       "      <td>352.00</td>\n",
       "    </tr>\n",
       "    <tr>\n",
       "      <th>2</th>\n",
       "      <td>36.00</td>\n",
       "    </tr>\n",
       "    <tr>\n",
       "      <th>3</th>\n",
       "      <td>169.00</td>\n",
       "    </tr>\n",
       "    <tr>\n",
       "      <th>4</th>\n",
       "      <td>480.00</td>\n",
       "    </tr>\n",
       "    <tr>\n",
       "      <th>5</th>\n",
       "      <td>169.00</td>\n",
       "    </tr>\n",
       "    <tr>\n",
       "      <th>6</th>\n",
       "      <td>177.00</td>\n",
       "    </tr>\n",
       "    <tr>\n",
       "      <th>7</th>\n",
       "      <td>272.00</td>\n",
       "    </tr>\n",
       "    <tr>\n",
       "      <th>8</th>\n",
       "      <td>84.00</td>\n",
       "    </tr>\n",
       "    <tr>\n",
       "      <th>9</th>\n",
       "      <td>95.93</td>\n",
       "    </tr>\n",
       "    <tr>\n",
       "      <th>10</th>\n",
       "      <td>84.00</td>\n",
       "    </tr>\n",
       "    <tr>\n",
       "      <th>11</th>\n",
       "      <td>40.00</td>\n",
       "    </tr>\n",
       "    <tr>\n",
       "      <th>12</th>\n",
       "      <td>181.00</td>\n",
       "    </tr>\n",
       "    <tr>\n",
       "      <th>13</th>\n",
       "      <td>132.00</td>\n",
       "    </tr>\n",
       "    <tr>\n",
       "      <th>14</th>\n",
       "      <td>188.50</td>\n",
       "    </tr>\n",
       "  </tbody>\n",
       "</table>\n",
       "</div>"
      ],
      "text/plain": [
       "      PM10\n",
       "0    72.18\n",
       "1   352.00\n",
       "2    36.00\n",
       "3   169.00\n",
       "4   480.00\n",
       "5   169.00\n",
       "6   177.00\n",
       "7   272.00\n",
       "8    84.00\n",
       "9    95.93\n",
       "10   84.00\n",
       "11   40.00\n",
       "12  181.00\n",
       "13  132.00\n",
       "14  188.50"
      ]
     },
     "execution_count": 40,
     "metadata": {},
     "output_type": "execute_result"
    }
   ],
   "source": [
    "y_test.head(15)"
   ]
  },
  {
   "cell_type": "code",
   "execution_count": 41,
   "metadata": {
    "execution": {
     "iopub.execute_input": "2023-04-19T09:59:33.095843Z",
     "iopub.status.busy": "2023-04-19T09:59:33.095050Z",
     "iopub.status.idle": "2023-04-19T09:59:33.557273Z",
     "shell.execute_reply": "2023-04-19T09:59:33.555951Z",
     "shell.execute_reply.started": "2023-04-19T09:59:33.095786Z"
    },
    "trusted": true
   },
   "outputs": [
    {
     "name": "stdout",
     "output_type": "stream",
     "text": [
      "input_layer_1\n",
      "block1_conv1\n",
      "block1_conv2\n",
      "block1_pool\n",
      "block2_conv1\n",
      "block2_conv2\n",
      "block2_pool\n",
      "block3_conv1\n",
      "block3_conv2\n",
      "block3_conv3\n",
      "block3_pool\n",
      "block4_conv1\n",
      "block4_conv2\n",
      "block4_conv3\n",
      "block4_pool\n",
      "block5_conv1\n",
      "block5_conv2\n",
      "block5_conv3\n",
      "block5_pool\n"
     ]
    }
   ],
   "source": [
    "pre_trained_model  = tf.keras.applications.VGG16(input_shape=(224, 224, 3), include_top=False, weights=\"imagenet\")\n",
    "for layer in pre_trained_model.layers:\n",
    "    layer.trainable = False\n",
    "    print(layer.name)\n"
   ]
  },
  {
   "cell_type": "code",
   "execution_count": 43,
   "metadata": {
    "execution": {
     "iopub.execute_input": "2023-04-19T09:59:43.007406Z",
     "iopub.status.busy": "2023-04-19T09:59:43.006952Z",
     "iopub.status.idle": "2023-04-19T09:59:43.100030Z",
     "shell.execute_reply": "2023-04-19T09:59:43.099215Z",
     "shell.execute_reply.started": "2023-04-19T09:59:43.007364Z"
    },
    "trusted": true
   },
   "outputs": [
    {
     "data": {
      "text/html": [
       "<pre style=\"white-space:pre;overflow-x:auto;line-height:normal;font-family:Menlo,'DejaVu Sans Mono',consolas,'Courier New',monospace\"><span style=\"font-weight: bold\">Model: \"functional_1\"</span>\n",
       "</pre>\n"
      ],
      "text/plain": [
       "\u001b[1mModel: \"functional_1\"\u001b[0m\n"
      ]
     },
     "metadata": {},
     "output_type": "display_data"
    },
    {
     "data": {
      "text/html": [
       "<pre style=\"white-space:pre;overflow-x:auto;line-height:normal;font-family:Menlo,'DejaVu Sans Mono',consolas,'Courier New',monospace\">┏━━━━━━━━━━━━━━━━━━━━━━━━━━━━━━━━━┳━━━━━━━━━━━━━━━━━━━━━━━━┳━━━━━━━━━━━━━━━┓\n",
       "┃<span style=\"font-weight: bold\"> Layer (type)                    </span>┃<span style=\"font-weight: bold\"> Output Shape           </span>┃<span style=\"font-weight: bold\">       Param # </span>┃\n",
       "┡━━━━━━━━━━━━━━━━━━━━━━━━━━━━━━━━━╇━━━━━━━━━━━━━━━━━━━━━━━━╇━━━━━━━━━━━━━━━┩\n",
       "│ input_layer_1 (<span style=\"color: #0087ff; text-decoration-color: #0087ff\">InputLayer</span>)      │ (<span style=\"color: #00d7ff; text-decoration-color: #00d7ff\">None</span>, <span style=\"color: #00af00; text-decoration-color: #00af00\">224</span>, <span style=\"color: #00af00; text-decoration-color: #00af00\">224</span>, <span style=\"color: #00af00; text-decoration-color: #00af00\">3</span>)    │             <span style=\"color: #00af00; text-decoration-color: #00af00\">0</span> │\n",
       "├─────────────────────────────────┼────────────────────────┼───────────────┤\n",
       "│ block1_conv1 (<span style=\"color: #0087ff; text-decoration-color: #0087ff\">Conv2D</span>)           │ (<span style=\"color: #00d7ff; text-decoration-color: #00d7ff\">None</span>, <span style=\"color: #00af00; text-decoration-color: #00af00\">224</span>, <span style=\"color: #00af00; text-decoration-color: #00af00\">224</span>, <span style=\"color: #00af00; text-decoration-color: #00af00\">64</span>)   │         <span style=\"color: #00af00; text-decoration-color: #00af00\">1,792</span> │\n",
       "├─────────────────────────────────┼────────────────────────┼───────────────┤\n",
       "│ block1_conv2 (<span style=\"color: #0087ff; text-decoration-color: #0087ff\">Conv2D</span>)           │ (<span style=\"color: #00d7ff; text-decoration-color: #00d7ff\">None</span>, <span style=\"color: #00af00; text-decoration-color: #00af00\">224</span>, <span style=\"color: #00af00; text-decoration-color: #00af00\">224</span>, <span style=\"color: #00af00; text-decoration-color: #00af00\">64</span>)   │        <span style=\"color: #00af00; text-decoration-color: #00af00\">36,928</span> │\n",
       "├─────────────────────────────────┼────────────────────────┼───────────────┤\n",
       "│ block1_pool (<span style=\"color: #0087ff; text-decoration-color: #0087ff\">MaxPooling2D</span>)      │ (<span style=\"color: #00d7ff; text-decoration-color: #00d7ff\">None</span>, <span style=\"color: #00af00; text-decoration-color: #00af00\">112</span>, <span style=\"color: #00af00; text-decoration-color: #00af00\">112</span>, <span style=\"color: #00af00; text-decoration-color: #00af00\">64</span>)   │             <span style=\"color: #00af00; text-decoration-color: #00af00\">0</span> │\n",
       "├─────────────────────────────────┼────────────────────────┼───────────────┤\n",
       "│ block2_conv1 (<span style=\"color: #0087ff; text-decoration-color: #0087ff\">Conv2D</span>)           │ (<span style=\"color: #00d7ff; text-decoration-color: #00d7ff\">None</span>, <span style=\"color: #00af00; text-decoration-color: #00af00\">112</span>, <span style=\"color: #00af00; text-decoration-color: #00af00\">112</span>, <span style=\"color: #00af00; text-decoration-color: #00af00\">128</span>)  │        <span style=\"color: #00af00; text-decoration-color: #00af00\">73,856</span> │\n",
       "├─────────────────────────────────┼────────────────────────┼───────────────┤\n",
       "│ block2_conv2 (<span style=\"color: #0087ff; text-decoration-color: #0087ff\">Conv2D</span>)           │ (<span style=\"color: #00d7ff; text-decoration-color: #00d7ff\">None</span>, <span style=\"color: #00af00; text-decoration-color: #00af00\">112</span>, <span style=\"color: #00af00; text-decoration-color: #00af00\">112</span>, <span style=\"color: #00af00; text-decoration-color: #00af00\">128</span>)  │       <span style=\"color: #00af00; text-decoration-color: #00af00\">147,584</span> │\n",
       "├─────────────────────────────────┼────────────────────────┼───────────────┤\n",
       "│ block2_pool (<span style=\"color: #0087ff; text-decoration-color: #0087ff\">MaxPooling2D</span>)      │ (<span style=\"color: #00d7ff; text-decoration-color: #00d7ff\">None</span>, <span style=\"color: #00af00; text-decoration-color: #00af00\">56</span>, <span style=\"color: #00af00; text-decoration-color: #00af00\">56</span>, <span style=\"color: #00af00; text-decoration-color: #00af00\">128</span>)    │             <span style=\"color: #00af00; text-decoration-color: #00af00\">0</span> │\n",
       "├─────────────────────────────────┼────────────────────────┼───────────────┤\n",
       "│ block3_conv1 (<span style=\"color: #0087ff; text-decoration-color: #0087ff\">Conv2D</span>)           │ (<span style=\"color: #00d7ff; text-decoration-color: #00d7ff\">None</span>, <span style=\"color: #00af00; text-decoration-color: #00af00\">56</span>, <span style=\"color: #00af00; text-decoration-color: #00af00\">56</span>, <span style=\"color: #00af00; text-decoration-color: #00af00\">256</span>)    │       <span style=\"color: #00af00; text-decoration-color: #00af00\">295,168</span> │\n",
       "├─────────────────────────────────┼────────────────────────┼───────────────┤\n",
       "│ block3_conv2 (<span style=\"color: #0087ff; text-decoration-color: #0087ff\">Conv2D</span>)           │ (<span style=\"color: #00d7ff; text-decoration-color: #00d7ff\">None</span>, <span style=\"color: #00af00; text-decoration-color: #00af00\">56</span>, <span style=\"color: #00af00; text-decoration-color: #00af00\">56</span>, <span style=\"color: #00af00; text-decoration-color: #00af00\">256</span>)    │       <span style=\"color: #00af00; text-decoration-color: #00af00\">590,080</span> │\n",
       "├─────────────────────────────────┼────────────────────────┼───────────────┤\n",
       "│ block3_conv3 (<span style=\"color: #0087ff; text-decoration-color: #0087ff\">Conv2D</span>)           │ (<span style=\"color: #00d7ff; text-decoration-color: #00d7ff\">None</span>, <span style=\"color: #00af00; text-decoration-color: #00af00\">56</span>, <span style=\"color: #00af00; text-decoration-color: #00af00\">56</span>, <span style=\"color: #00af00; text-decoration-color: #00af00\">256</span>)    │       <span style=\"color: #00af00; text-decoration-color: #00af00\">590,080</span> │\n",
       "├─────────────────────────────────┼────────────────────────┼───────────────┤\n",
       "│ block3_pool (<span style=\"color: #0087ff; text-decoration-color: #0087ff\">MaxPooling2D</span>)      │ (<span style=\"color: #00d7ff; text-decoration-color: #00d7ff\">None</span>, <span style=\"color: #00af00; text-decoration-color: #00af00\">28</span>, <span style=\"color: #00af00; text-decoration-color: #00af00\">28</span>, <span style=\"color: #00af00; text-decoration-color: #00af00\">256</span>)    │             <span style=\"color: #00af00; text-decoration-color: #00af00\">0</span> │\n",
       "├─────────────────────────────────┼────────────────────────┼───────────────┤\n",
       "│ block4_conv1 (<span style=\"color: #0087ff; text-decoration-color: #0087ff\">Conv2D</span>)           │ (<span style=\"color: #00d7ff; text-decoration-color: #00d7ff\">None</span>, <span style=\"color: #00af00; text-decoration-color: #00af00\">28</span>, <span style=\"color: #00af00; text-decoration-color: #00af00\">28</span>, <span style=\"color: #00af00; text-decoration-color: #00af00\">512</span>)    │     <span style=\"color: #00af00; text-decoration-color: #00af00\">1,180,160</span> │\n",
       "├─────────────────────────────────┼────────────────────────┼───────────────┤\n",
       "│ block4_conv2 (<span style=\"color: #0087ff; text-decoration-color: #0087ff\">Conv2D</span>)           │ (<span style=\"color: #00d7ff; text-decoration-color: #00d7ff\">None</span>, <span style=\"color: #00af00; text-decoration-color: #00af00\">28</span>, <span style=\"color: #00af00; text-decoration-color: #00af00\">28</span>, <span style=\"color: #00af00; text-decoration-color: #00af00\">512</span>)    │     <span style=\"color: #00af00; text-decoration-color: #00af00\">2,359,808</span> │\n",
       "├─────────────────────────────────┼────────────────────────┼───────────────┤\n",
       "│ block4_conv3 (<span style=\"color: #0087ff; text-decoration-color: #0087ff\">Conv2D</span>)           │ (<span style=\"color: #00d7ff; text-decoration-color: #00d7ff\">None</span>, <span style=\"color: #00af00; text-decoration-color: #00af00\">28</span>, <span style=\"color: #00af00; text-decoration-color: #00af00\">28</span>, <span style=\"color: #00af00; text-decoration-color: #00af00\">512</span>)    │     <span style=\"color: #00af00; text-decoration-color: #00af00\">2,359,808</span> │\n",
       "├─────────────────────────────────┼────────────────────────┼───────────────┤\n",
       "│ block4_pool (<span style=\"color: #0087ff; text-decoration-color: #0087ff\">MaxPooling2D</span>)      │ (<span style=\"color: #00d7ff; text-decoration-color: #00d7ff\">None</span>, <span style=\"color: #00af00; text-decoration-color: #00af00\">14</span>, <span style=\"color: #00af00; text-decoration-color: #00af00\">14</span>, <span style=\"color: #00af00; text-decoration-color: #00af00\">512</span>)    │             <span style=\"color: #00af00; text-decoration-color: #00af00\">0</span> │\n",
       "├─────────────────────────────────┼────────────────────────┼───────────────┤\n",
       "│ block5_conv1 (<span style=\"color: #0087ff; text-decoration-color: #0087ff\">Conv2D</span>)           │ (<span style=\"color: #00d7ff; text-decoration-color: #00d7ff\">None</span>, <span style=\"color: #00af00; text-decoration-color: #00af00\">14</span>, <span style=\"color: #00af00; text-decoration-color: #00af00\">14</span>, <span style=\"color: #00af00; text-decoration-color: #00af00\">512</span>)    │     <span style=\"color: #00af00; text-decoration-color: #00af00\">2,359,808</span> │\n",
       "├─────────────────────────────────┼────────────────────────┼───────────────┤\n",
       "│ block5_conv2 (<span style=\"color: #0087ff; text-decoration-color: #0087ff\">Conv2D</span>)           │ (<span style=\"color: #00d7ff; text-decoration-color: #00d7ff\">None</span>, <span style=\"color: #00af00; text-decoration-color: #00af00\">14</span>, <span style=\"color: #00af00; text-decoration-color: #00af00\">14</span>, <span style=\"color: #00af00; text-decoration-color: #00af00\">512</span>)    │     <span style=\"color: #00af00; text-decoration-color: #00af00\">2,359,808</span> │\n",
       "├─────────────────────────────────┼────────────────────────┼───────────────┤\n",
       "│ block5_conv3 (<span style=\"color: #0087ff; text-decoration-color: #0087ff\">Conv2D</span>)           │ (<span style=\"color: #00d7ff; text-decoration-color: #00d7ff\">None</span>, <span style=\"color: #00af00; text-decoration-color: #00af00\">14</span>, <span style=\"color: #00af00; text-decoration-color: #00af00\">14</span>, <span style=\"color: #00af00; text-decoration-color: #00af00\">512</span>)    │     <span style=\"color: #00af00; text-decoration-color: #00af00\">2,359,808</span> │\n",
       "├─────────────────────────────────┼────────────────────────┼───────────────┤\n",
       "│ block5_pool (<span style=\"color: #0087ff; text-decoration-color: #0087ff\">MaxPooling2D</span>)      │ (<span style=\"color: #00d7ff; text-decoration-color: #00d7ff\">None</span>, <span style=\"color: #00af00; text-decoration-color: #00af00\">7</span>, <span style=\"color: #00af00; text-decoration-color: #00af00\">7</span>, <span style=\"color: #00af00; text-decoration-color: #00af00\">512</span>)      │             <span style=\"color: #00af00; text-decoration-color: #00af00\">0</span> │\n",
       "├─────────────────────────────────┼────────────────────────┼───────────────┤\n",
       "│ flatten_1 (<span style=\"color: #0087ff; text-decoration-color: #0087ff\">Flatten</span>)             │ (<span style=\"color: #00d7ff; text-decoration-color: #00d7ff\">None</span>, <span style=\"color: #00af00; text-decoration-color: #00af00\">25088</span>)          │             <span style=\"color: #00af00; text-decoration-color: #00af00\">0</span> │\n",
       "├─────────────────────────────────┼────────────────────────┼───────────────┤\n",
       "│ dense_3 (<span style=\"color: #0087ff; text-decoration-color: #0087ff\">Dense</span>)                 │ (<span style=\"color: #00d7ff; text-decoration-color: #00d7ff\">None</span>, <span style=\"color: #00af00; text-decoration-color: #00af00\">512</span>)            │    <span style=\"color: #00af00; text-decoration-color: #00af00\">12,845,568</span> │\n",
       "├─────────────────────────────────┼────────────────────────┼───────────────┤\n",
       "│ dense_4 (<span style=\"color: #0087ff; text-decoration-color: #0087ff\">Dense</span>)                 │ (<span style=\"color: #00d7ff; text-decoration-color: #00d7ff\">None</span>, <span style=\"color: #00af00; text-decoration-color: #00af00\">512</span>)            │       <span style=\"color: #00af00; text-decoration-color: #00af00\">262,656</span> │\n",
       "├─────────────────────────────────┼────────────────────────┼───────────────┤\n",
       "│ dense_5 (<span style=\"color: #0087ff; text-decoration-color: #0087ff\">Dense</span>)                 │ (<span style=\"color: #00d7ff; text-decoration-color: #00d7ff\">None</span>, <span style=\"color: #00af00; text-decoration-color: #00af00\">1</span>)              │           <span style=\"color: #00af00; text-decoration-color: #00af00\">513</span> │\n",
       "└─────────────────────────────────┴────────────────────────┴───────────────┘\n",
       "</pre>\n"
      ],
      "text/plain": [
       "┏━━━━━━━━━━━━━━━━━━━━━━━━━━━━━━━━━┳━━━━━━━━━━━━━━━━━━━━━━━━┳━━━━━━━━━━━━━━━┓\n",
       "┃\u001b[1m \u001b[0m\u001b[1mLayer (type)                   \u001b[0m\u001b[1m \u001b[0m┃\u001b[1m \u001b[0m\u001b[1mOutput Shape          \u001b[0m\u001b[1m \u001b[0m┃\u001b[1m \u001b[0m\u001b[1m      Param #\u001b[0m\u001b[1m \u001b[0m┃\n",
       "┡━━━━━━━━━━━━━━━━━━━━━━━━━━━━━━━━━╇━━━━━━━━━━━━━━━━━━━━━━━━╇━━━━━━━━━━━━━━━┩\n",
       "│ input_layer_1 (\u001b[38;5;33mInputLayer\u001b[0m)      │ (\u001b[38;5;45mNone\u001b[0m, \u001b[38;5;34m224\u001b[0m, \u001b[38;5;34m224\u001b[0m, \u001b[38;5;34m3\u001b[0m)    │             \u001b[38;5;34m0\u001b[0m │\n",
       "├─────────────────────────────────┼────────────────────────┼───────────────┤\n",
       "│ block1_conv1 (\u001b[38;5;33mConv2D\u001b[0m)           │ (\u001b[38;5;45mNone\u001b[0m, \u001b[38;5;34m224\u001b[0m, \u001b[38;5;34m224\u001b[0m, \u001b[38;5;34m64\u001b[0m)   │         \u001b[38;5;34m1,792\u001b[0m │\n",
       "├─────────────────────────────────┼────────────────────────┼───────────────┤\n",
       "│ block1_conv2 (\u001b[38;5;33mConv2D\u001b[0m)           │ (\u001b[38;5;45mNone\u001b[0m, \u001b[38;5;34m224\u001b[0m, \u001b[38;5;34m224\u001b[0m, \u001b[38;5;34m64\u001b[0m)   │        \u001b[38;5;34m36,928\u001b[0m │\n",
       "├─────────────────────────────────┼────────────────────────┼───────────────┤\n",
       "│ block1_pool (\u001b[38;5;33mMaxPooling2D\u001b[0m)      │ (\u001b[38;5;45mNone\u001b[0m, \u001b[38;5;34m112\u001b[0m, \u001b[38;5;34m112\u001b[0m, \u001b[38;5;34m64\u001b[0m)   │             \u001b[38;5;34m0\u001b[0m │\n",
       "├─────────────────────────────────┼────────────────────────┼───────────────┤\n",
       "│ block2_conv1 (\u001b[38;5;33mConv2D\u001b[0m)           │ (\u001b[38;5;45mNone\u001b[0m, \u001b[38;5;34m112\u001b[0m, \u001b[38;5;34m112\u001b[0m, \u001b[38;5;34m128\u001b[0m)  │        \u001b[38;5;34m73,856\u001b[0m │\n",
       "├─────────────────────────────────┼────────────────────────┼───────────────┤\n",
       "│ block2_conv2 (\u001b[38;5;33mConv2D\u001b[0m)           │ (\u001b[38;5;45mNone\u001b[0m, \u001b[38;5;34m112\u001b[0m, \u001b[38;5;34m112\u001b[0m, \u001b[38;5;34m128\u001b[0m)  │       \u001b[38;5;34m147,584\u001b[0m │\n",
       "├─────────────────────────────────┼────────────────────────┼───────────────┤\n",
       "│ block2_pool (\u001b[38;5;33mMaxPooling2D\u001b[0m)      │ (\u001b[38;5;45mNone\u001b[0m, \u001b[38;5;34m56\u001b[0m, \u001b[38;5;34m56\u001b[0m, \u001b[38;5;34m128\u001b[0m)    │             \u001b[38;5;34m0\u001b[0m │\n",
       "├─────────────────────────────────┼────────────────────────┼───────────────┤\n",
       "│ block3_conv1 (\u001b[38;5;33mConv2D\u001b[0m)           │ (\u001b[38;5;45mNone\u001b[0m, \u001b[38;5;34m56\u001b[0m, \u001b[38;5;34m56\u001b[0m, \u001b[38;5;34m256\u001b[0m)    │       \u001b[38;5;34m295,168\u001b[0m │\n",
       "├─────────────────────────────────┼────────────────────────┼───────────────┤\n",
       "│ block3_conv2 (\u001b[38;5;33mConv2D\u001b[0m)           │ (\u001b[38;5;45mNone\u001b[0m, \u001b[38;5;34m56\u001b[0m, \u001b[38;5;34m56\u001b[0m, \u001b[38;5;34m256\u001b[0m)    │       \u001b[38;5;34m590,080\u001b[0m │\n",
       "├─────────────────────────────────┼────────────────────────┼───────────────┤\n",
       "│ block3_conv3 (\u001b[38;5;33mConv2D\u001b[0m)           │ (\u001b[38;5;45mNone\u001b[0m, \u001b[38;5;34m56\u001b[0m, \u001b[38;5;34m56\u001b[0m, \u001b[38;5;34m256\u001b[0m)    │       \u001b[38;5;34m590,080\u001b[0m │\n",
       "├─────────────────────────────────┼────────────────────────┼───────────────┤\n",
       "│ block3_pool (\u001b[38;5;33mMaxPooling2D\u001b[0m)      │ (\u001b[38;5;45mNone\u001b[0m, \u001b[38;5;34m28\u001b[0m, \u001b[38;5;34m28\u001b[0m, \u001b[38;5;34m256\u001b[0m)    │             \u001b[38;5;34m0\u001b[0m │\n",
       "├─────────────────────────────────┼────────────────────────┼───────────────┤\n",
       "│ block4_conv1 (\u001b[38;5;33mConv2D\u001b[0m)           │ (\u001b[38;5;45mNone\u001b[0m, \u001b[38;5;34m28\u001b[0m, \u001b[38;5;34m28\u001b[0m, \u001b[38;5;34m512\u001b[0m)    │     \u001b[38;5;34m1,180,160\u001b[0m │\n",
       "├─────────────────────────────────┼────────────────────────┼───────────────┤\n",
       "│ block4_conv2 (\u001b[38;5;33mConv2D\u001b[0m)           │ (\u001b[38;5;45mNone\u001b[0m, \u001b[38;5;34m28\u001b[0m, \u001b[38;5;34m28\u001b[0m, \u001b[38;5;34m512\u001b[0m)    │     \u001b[38;5;34m2,359,808\u001b[0m │\n",
       "├─────────────────────────────────┼────────────────────────┼───────────────┤\n",
       "│ block4_conv3 (\u001b[38;5;33mConv2D\u001b[0m)           │ (\u001b[38;5;45mNone\u001b[0m, \u001b[38;5;34m28\u001b[0m, \u001b[38;5;34m28\u001b[0m, \u001b[38;5;34m512\u001b[0m)    │     \u001b[38;5;34m2,359,808\u001b[0m │\n",
       "├─────────────────────────────────┼────────────────────────┼───────────────┤\n",
       "│ block4_pool (\u001b[38;5;33mMaxPooling2D\u001b[0m)      │ (\u001b[38;5;45mNone\u001b[0m, \u001b[38;5;34m14\u001b[0m, \u001b[38;5;34m14\u001b[0m, \u001b[38;5;34m512\u001b[0m)    │             \u001b[38;5;34m0\u001b[0m │\n",
       "├─────────────────────────────────┼────────────────────────┼───────────────┤\n",
       "│ block5_conv1 (\u001b[38;5;33mConv2D\u001b[0m)           │ (\u001b[38;5;45mNone\u001b[0m, \u001b[38;5;34m14\u001b[0m, \u001b[38;5;34m14\u001b[0m, \u001b[38;5;34m512\u001b[0m)    │     \u001b[38;5;34m2,359,808\u001b[0m │\n",
       "├─────────────────────────────────┼────────────────────────┼───────────────┤\n",
       "│ block5_conv2 (\u001b[38;5;33mConv2D\u001b[0m)           │ (\u001b[38;5;45mNone\u001b[0m, \u001b[38;5;34m14\u001b[0m, \u001b[38;5;34m14\u001b[0m, \u001b[38;5;34m512\u001b[0m)    │     \u001b[38;5;34m2,359,808\u001b[0m │\n",
       "├─────────────────────────────────┼────────────────────────┼───────────────┤\n",
       "│ block5_conv3 (\u001b[38;5;33mConv2D\u001b[0m)           │ (\u001b[38;5;45mNone\u001b[0m, \u001b[38;5;34m14\u001b[0m, \u001b[38;5;34m14\u001b[0m, \u001b[38;5;34m512\u001b[0m)    │     \u001b[38;5;34m2,359,808\u001b[0m │\n",
       "├─────────────────────────────────┼────────────────────────┼───────────────┤\n",
       "│ block5_pool (\u001b[38;5;33mMaxPooling2D\u001b[0m)      │ (\u001b[38;5;45mNone\u001b[0m, \u001b[38;5;34m7\u001b[0m, \u001b[38;5;34m7\u001b[0m, \u001b[38;5;34m512\u001b[0m)      │             \u001b[38;5;34m0\u001b[0m │\n",
       "├─────────────────────────────────┼────────────────────────┼───────────────┤\n",
       "│ flatten_1 (\u001b[38;5;33mFlatten\u001b[0m)             │ (\u001b[38;5;45mNone\u001b[0m, \u001b[38;5;34m25088\u001b[0m)          │             \u001b[38;5;34m0\u001b[0m │\n",
       "├─────────────────────────────────┼────────────────────────┼───────────────┤\n",
       "│ dense_3 (\u001b[38;5;33mDense\u001b[0m)                 │ (\u001b[38;5;45mNone\u001b[0m, \u001b[38;5;34m512\u001b[0m)            │    \u001b[38;5;34m12,845,568\u001b[0m │\n",
       "├─────────────────────────────────┼────────────────────────┼───────────────┤\n",
       "│ dense_4 (\u001b[38;5;33mDense\u001b[0m)                 │ (\u001b[38;5;45mNone\u001b[0m, \u001b[38;5;34m512\u001b[0m)            │       \u001b[38;5;34m262,656\u001b[0m │\n",
       "├─────────────────────────────────┼────────────────────────┼───────────────┤\n",
       "│ dense_5 (\u001b[38;5;33mDense\u001b[0m)                 │ (\u001b[38;5;45mNone\u001b[0m, \u001b[38;5;34m1\u001b[0m)              │           \u001b[38;5;34m513\u001b[0m │\n",
       "└─────────────────────────────────┴────────────────────────┴───────────────┘\n"
      ]
     },
     "metadata": {},
     "output_type": "display_data"
    },
    {
     "data": {
      "text/html": [
       "<pre style=\"white-space:pre;overflow-x:auto;line-height:normal;font-family:Menlo,'DejaVu Sans Mono',consolas,'Courier New',monospace\"><span style=\"font-weight: bold\"> Total params: </span><span style=\"color: #00af00; text-decoration-color: #00af00\">27,823,425</span> (106.14 MB)\n",
       "</pre>\n"
      ],
      "text/plain": [
       "\u001b[1m Total params: \u001b[0m\u001b[38;5;34m27,823,425\u001b[0m (106.14 MB)\n"
      ]
     },
     "metadata": {},
     "output_type": "display_data"
    },
    {
     "data": {
      "text/html": [
       "<pre style=\"white-space:pre;overflow-x:auto;line-height:normal;font-family:Menlo,'DejaVu Sans Mono',consolas,'Courier New',monospace\"><span style=\"font-weight: bold\"> Trainable params: </span><span style=\"color: #00af00; text-decoration-color: #00af00\">13,108,737</span> (50.01 MB)\n",
       "</pre>\n"
      ],
      "text/plain": [
       "\u001b[1m Trainable params: \u001b[0m\u001b[38;5;34m13,108,737\u001b[0m (50.01 MB)\n"
      ]
     },
     "metadata": {},
     "output_type": "display_data"
    },
    {
     "data": {
      "text/html": [
       "<pre style=\"white-space:pre;overflow-x:auto;line-height:normal;font-family:Menlo,'DejaVu Sans Mono',consolas,'Courier New',monospace\"><span style=\"font-weight: bold\"> Non-trainable params: </span><span style=\"color: #00af00; text-decoration-color: #00af00\">14,714,688</span> (56.13 MB)\n",
       "</pre>\n"
      ],
      "text/plain": [
       "\u001b[1m Non-trainable params: \u001b[0m\u001b[38;5;34m14,714,688\u001b[0m (56.13 MB)\n"
      ]
     },
     "metadata": {},
     "output_type": "display_data"
    }
   ],
   "source": [
    "x1 = Flatten()(pre_trained_model.output)\n",
    "fc1 = Dense(512, activation = 'relu')(x1)\n",
    "fc2 = Dense(512, activation = 'relu')(fc1)\n",
    "x = Dense(1, activation='linear')(fc2)\n",
    "model = Model(pre_trained_model.input, x)\n",
    "\n",
    "opt = tf.keras.optimizers.Adam(learning_rate=0.0001)\n",
    "model.compile(loss='mse', optimizer=opt)\n",
    "model.summary()"
   ]
  },
  {
   "cell_type": "code",
   "execution_count": 46,
   "metadata": {
    "execution": {
     "iopub.execute_input": "2023-04-19T09:59:47.633490Z",
     "iopub.status.busy": "2023-04-19T09:59:47.632671Z",
     "iopub.status.idle": "2023-04-19T09:59:47.639099Z",
     "shell.execute_reply": "2023-04-19T09:59:47.637900Z",
     "shell.execute_reply.started": "2023-04-19T09:59:47.633449Z"
    },
    "trusted": true
   },
   "outputs": [],
   "source": [
    "# Change your filepath to end with .weights.h5\n",
    "weight_path = 'vgg16_aqi.best.weights.h5'\n",
    "\n",
    "callback = [\n",
    "    EarlyStopping(monitor='val_loss', patience=15, verbose=1, mode='auto'),\n",
    "    ModelCheckpoint(weight_path, monitor='val_loss', verbose=1, \n",
    "                   save_best_only=True, mode='min', save_weights_only=True)]"
   ]
  },
  {
   "cell_type": "code",
   "execution_count": 47,
   "metadata": {
    "execution": {
     "iopub.execute_input": "2023-04-19T09:59:50.312099Z",
     "iopub.status.busy": "2023-04-19T09:59:50.311017Z",
     "iopub.status.idle": "2023-04-19T10:08:31.021927Z",
     "shell.execute_reply": "2023-04-19T10:08:31.020647Z",
     "shell.execute_reply.started": "2023-04-19T09:59:50.312053Z"
    },
    "trusted": true
   },
   "outputs": [
    {
     "name": "stderr",
     "output_type": "stream",
     "text": [
      "2025-02-12 12:34:33.034109: W external/local_xla/xla/tsl/framework/bfc_allocator.cc:497] Allocator (GPU_0_bfc) ran out of memory trying to allocate 1.35GiB (rounded to 1445068800)requested by op _EagerConst\n",
      "If the cause is memory fragmentation maybe the environment variable 'TF_GPU_ALLOCATOR=cuda_malloc_async' will improve the situation. \n",
      "Current allocation summary follows.\n",
      "Current allocation summary follows.\n",
      "2025-02-12 12:34:33.034204: I external/local_xla/xla/tsl/framework/bfc_allocator.cc:1053] BFCAllocator dump for GPU_0_bfc\n",
      "2025-02-12 12:34:33.034233: I external/local_xla/xla/tsl/framework/bfc_allocator.cc:1060] Bin (256): \tTotal Chunks: 37, Chunks in use: 37. 9.2KiB allocated for chunks. 9.2KiB in use in bin. 1.1KiB client-requested in use in bin.\n",
      "2025-02-12 12:34:33.034248: I external/local_xla/xla/tsl/framework/bfc_allocator.cc:1060] Bin (512): \tTotal Chunks: 4, Chunks in use: 4. 2.0KiB allocated for chunks. 2.0KiB in use in bin. 2.0KiB client-requested in use in bin.\n",
      "2025-02-12 12:34:33.034261: I external/local_xla/xla/tsl/framework/bfc_allocator.cc:1060] Bin (1024): \tTotal Chunks: 7, Chunks in use: 7. 7.2KiB allocated for chunks. 7.2KiB in use in bin. 7.0KiB client-requested in use in bin.\n",
      "2025-02-12 12:34:33.034276: I external/local_xla/xla/tsl/framework/bfc_allocator.cc:1060] Bin (2048): \tTotal Chunks: 18, Chunks in use: 18. 37.2KiB allocated for chunks. 37.2KiB in use in bin. 36.0KiB client-requested in use in bin.\n",
      "2025-02-12 12:34:33.034290: I external/local_xla/xla/tsl/framework/bfc_allocator.cc:1060] Bin (4096): \tTotal Chunks: 3, Chunks in use: 2. 17.5KiB allocated for chunks. 13.5KiB in use in bin. 13.5KiB client-requested in use in bin.\n",
      "2025-02-12 12:34:33.034302: I external/local_xla/xla/tsl/framework/bfc_allocator.cc:1060] Bin (8192): \tTotal Chunks: 0, Chunks in use: 0. 0B allocated for chunks. 0B in use in bin. 0B client-requested in use in bin.\n",
      "2025-02-12 12:34:33.034314: I external/local_xla/xla/tsl/framework/bfc_allocator.cc:1060] Bin (16384): \tTotal Chunks: 0, Chunks in use: 0. 0B allocated for chunks. 0B in use in bin. 0B client-requested in use in bin.\n",
      "2025-02-12 12:34:33.034325: I external/local_xla/xla/tsl/framework/bfc_allocator.cc:1060] Bin (32768): \tTotal Chunks: 0, Chunks in use: 0. 0B allocated for chunks. 0B in use in bin. 0B client-requested in use in bin.\n",
      "2025-02-12 12:34:33.034336: I external/local_xla/xla/tsl/framework/bfc_allocator.cc:1060] Bin (65536): \tTotal Chunks: 0, Chunks in use: 0. 0B allocated for chunks. 0B in use in bin. 0B client-requested in use in bin.\n",
      "2025-02-12 12:34:33.034347: I external/local_xla/xla/tsl/framework/bfc_allocator.cc:1060] Bin (131072): \tTotal Chunks: 0, Chunks in use: 0. 0B allocated for chunks. 0B in use in bin. 0B client-requested in use in bin.\n",
      "2025-02-12 12:34:33.034361: I external/local_xla/xla/tsl/framework/bfc_allocator.cc:1060] Bin (262144): \tTotal Chunks: 4, Chunks in use: 4. 1.39MiB allocated for chunks. 1.39MiB in use in bin. 864.0KiB client-requested in use in bin.\n",
      "2025-02-12 12:34:33.034373: I external/local_xla/xla/tsl/framework/bfc_allocator.cc:1060] Bin (524288): \tTotal Chunks: 2, Chunks in use: 2. 1.12MiB allocated for chunks. 1.12MiB in use in bin. 1.12MiB client-requested in use in bin.\n",
      "2025-02-12 12:34:33.034386: I external/local_xla/xla/tsl/framework/bfc_allocator.cc:1060] Bin (1048576): \tTotal Chunks: 6, Chunks in use: 4. 8.86MiB allocated for chunks. 5.21MiB in use in bin. 4.25MiB client-requested in use in bin.\n",
      "2025-02-12 12:34:33.034398: I external/local_xla/xla/tsl/framework/bfc_allocator.cc:1060] Bin (2097152): \tTotal Chunks: 4, Chunks in use: 4. 9.00MiB allocated for chunks. 9.00MiB in use in bin. 9.00MiB client-requested in use in bin.\n",
      "2025-02-12 12:34:33.034411: I external/local_xla/xla/tsl/framework/bfc_allocator.cc:1060] Bin (4194304): \tTotal Chunks: 2, Chunks in use: 2. 9.00MiB allocated for chunks. 9.00MiB in use in bin. 9.00MiB client-requested in use in bin.\n",
      "2025-02-12 12:34:33.034424: I external/local_xla/xla/tsl/framework/bfc_allocator.cc:1060] Bin (8388608): \tTotal Chunks: 10, Chunks in use: 10. 90.00MiB allocated for chunks. 90.00MiB in use in bin. 90.00MiB client-requested in use in bin.\n",
      "2025-02-12 12:34:33.034436: I external/local_xla/xla/tsl/framework/bfc_allocator.cc:1060] Bin (16777216): \tTotal Chunks: 0, Chunks in use: 0. 0B allocated for chunks. 0B in use in bin. 0B client-requested in use in bin.\n",
      "2025-02-12 12:34:33.034450: I external/local_xla/xla/tsl/framework/bfc_allocator.cc:1060] Bin (33554432): \tTotal Chunks: 3, Chunks in use: 2. 146.00MiB allocated for chunks. 98.00MiB in use in bin. 98.00MiB client-requested in use in bin.\n",
      "2025-02-12 12:34:33.034466: I external/local_xla/xla/tsl/framework/bfc_allocator.cc:1060] Bin (67108864): \tTotal Chunks: 1, Chunks in use: 0. 97.00MiB allocated for chunks. 0B in use in bin. 0B client-requested in use in bin.\n",
      "2025-02-12 12:34:33.034478: I external/local_xla/xla/tsl/framework/bfc_allocator.cc:1060] Bin (134217728): \tTotal Chunks: 0, Chunks in use: 0. 0B allocated for chunks. 0B in use in bin. 0B client-requested in use in bin.\n",
      "2025-02-12 12:34:33.034490: I external/local_xla/xla/tsl/framework/bfc_allocator.cc:1060] Bin (268435456): \tTotal Chunks: 1, Chunks in use: 0. 729.43MiB allocated for chunks. 0B in use in bin. 0B client-requested in use in bin.\n",
      "2025-02-12 12:34:33.034503: I external/local_xla/xla/tsl/framework/bfc_allocator.cc:1076] Bin for 1.35GiB was 256.00MiB, Chunk State: \n",
      "2025-02-12 12:34:33.034521: I external/local_xla/xla/tsl/framework/bfc_allocator.cc:1082]   Size: 729.43MiB | Requested Size: 0B | in_use: 0 | bin_num: 20, prev:   Size: 49.00MiB | Requested Size: 49.00MiB | in_use: 1 | bin_num: -1\n",
      "2025-02-12 12:34:33.034531: I external/local_xla/xla/tsl/framework/bfc_allocator.cc:1089] Next region of size 1144913920\n",
      "2025-02-12 12:34:33.034544: I external/local_xla/xla/tsl/framework/bfc_allocator.cc:1109] InUse at 731a00000000 of size 1280 next 1\n",
      "2025-02-12 12:34:33.034554: I external/local_xla/xla/tsl/framework/bfc_allocator.cc:1109] InUse at 731a00000500 of size 256 next 2\n",
      "2025-02-12 12:34:33.034564: I external/local_xla/xla/tsl/framework/bfc_allocator.cc:1109] InUse at 731a00000600 of size 256 next 3\n",
      "2025-02-12 12:34:33.034574: I external/local_xla/xla/tsl/framework/bfc_allocator.cc:1109] InUse at 731a00000700 of size 256 next 4\n",
      "2025-02-12 12:34:33.034583: I external/local_xla/xla/tsl/framework/bfc_allocator.cc:1109] InUse at 731a00000800 of size 256 next 5\n",
      "2025-02-12 12:34:33.034593: I external/local_xla/xla/tsl/framework/bfc_allocator.cc:1109] InUse at 731a00000900 of size 256 next 7\n",
      "2025-02-12 12:34:33.034602: I external/local_xla/xla/tsl/framework/bfc_allocator.cc:1109] InUse at 731a00000a00 of size 256 next 8\n",
      "2025-02-12 12:34:33.034611: I external/local_xla/xla/tsl/framework/bfc_allocator.cc:1109] InUse at 731a00000b00 of size 256 next 6\n",
      "2025-02-12 12:34:33.034621: I external/local_xla/xla/tsl/framework/bfc_allocator.cc:1109] InUse at 731a00000c00 of size 256 next 9\n",
      "2025-02-12 12:34:33.034630: I external/local_xla/xla/tsl/framework/bfc_allocator.cc:1109] InUse at 731a00000d00 of size 256 next 14\n",
      "2025-02-12 12:34:33.034640: I external/local_xla/xla/tsl/framework/bfc_allocator.cc:1109] InUse at 731a00000e00 of size 256 next 12\n",
      "2025-02-12 12:34:33.034649: I external/local_xla/xla/tsl/framework/bfc_allocator.cc:1109] InUse at 731a00000f00 of size 512 next 13\n",
      "2025-02-12 12:34:33.034660: I external/local_xla/xla/tsl/framework/bfc_allocator.cc:1109] InUse at 731a00001100 of size 256 next 17\n",
      "2025-02-12 12:34:33.034669: I external/local_xla/xla/tsl/framework/bfc_allocator.cc:1109] InUse at 731a00001200 of size 256 next 18\n",
      "2025-02-12 12:34:33.034678: I external/local_xla/xla/tsl/framework/bfc_allocator.cc:1109] InUse at 731a00001300 of size 256 next 55\n",
      "2025-02-12 12:34:33.034687: I external/local_xla/xla/tsl/framework/bfc_allocator.cc:1109] InUse at 731a00001400 of size 256 next 21\n",
      "2025-02-12 12:34:33.034696: I external/local_xla/xla/tsl/framework/bfc_allocator.cc:1109] InUse at 731a00001500 of size 256 next 24\n",
      "2025-02-12 12:34:33.034705: I external/local_xla/xla/tsl/framework/bfc_allocator.cc:1109] InUse at 731a00001600 of size 256 next 22\n",
      "2025-02-12 12:34:33.034714: I external/local_xla/xla/tsl/framework/bfc_allocator.cc:1109] InUse at 731a00001700 of size 1024 next 23\n",
      "2025-02-12 12:34:33.034724: I external/local_xla/xla/tsl/framework/bfc_allocator.cc:1109] InUse at 731a00001b00 of size 256 next 27\n",
      "2025-02-12 12:34:33.034733: I external/local_xla/xla/tsl/framework/bfc_allocator.cc:1109] InUse at 731a00001c00 of size 256 next 28\n",
      "2025-02-12 12:34:33.034743: I external/local_xla/xla/tsl/framework/bfc_allocator.cc:1109] InUse at 731a00001d00 of size 1024 next 31\n",
      "2025-02-12 12:34:33.034752: I external/local_xla/xla/tsl/framework/bfc_allocator.cc:1109] InUse at 731a00002100 of size 512 next 44\n",
      "2025-02-12 12:34:33.034761: I external/local_xla/xla/tsl/framework/bfc_allocator.cc:1109] InUse at 731a00002300 of size 256 next 81\n",
      "2025-02-12 12:34:33.034770: I external/local_xla/xla/tsl/framework/bfc_allocator.cc:1109] InUse at 731a00002400 of size 256 next 32\n",
      "2025-02-12 12:34:33.034779: I external/local_xla/xla/tsl/framework/bfc_allocator.cc:1109] InUse at 731a00002500 of size 256 next 33\n",
      "2025-02-12 12:34:33.034788: I external/local_xla/xla/tsl/framework/bfc_allocator.cc:1109] InUse at 731a00002600 of size 256 next 37\n",
      "2025-02-12 12:34:33.034797: I external/local_xla/xla/tsl/framework/bfc_allocator.cc:1109] InUse at 731a00002700 of size 2048 next 34\n",
      "2025-02-12 12:34:33.034807: I external/local_xla/xla/tsl/framework/bfc_allocator.cc:1109] InUse at 731a00002f00 of size 256 next 39\n",
      "2025-02-12 12:34:33.034816: I external/local_xla/xla/tsl/framework/bfc_allocator.cc:1109] InUse at 731a00003000 of size 256 next 40\n",
      "2025-02-12 12:34:33.034825: I external/local_xla/xla/tsl/framework/bfc_allocator.cc:1109] InUse at 731a00003100 of size 2048 next 43\n",
      "2025-02-12 12:34:33.034834: I external/local_xla/xla/tsl/framework/bfc_allocator.cc:1109] InUse at 731a00003900 of size 2304 next 10\n",
      "2025-02-12 12:34:33.034843: I external/local_xla/xla/tsl/framework/bfc_allocator.cc:1109] InUse at 731a00004200 of size 256 next 54\n",
      "2025-02-12 12:34:33.034852: I external/local_xla/xla/tsl/framework/bfc_allocator.cc:1109] InUse at 731a00004300 of size 512 next 19\n",
      "2025-02-12 12:34:33.034861: I external/local_xla/xla/tsl/framework/bfc_allocator.cc:1109] InUse at 731a00004500 of size 1024 next 30\n",
      "2025-02-12 12:34:33.034870: I external/local_xla/xla/tsl/framework/bfc_allocator.cc:1109] InUse at 731a00004900 of size 2048 next 41\n",
      "2025-02-12 12:34:33.034879: I external/local_xla/xla/tsl/framework/bfc_allocator.cc:1109] InUse at 731a00005100 of size 2048 next 51\n",
      "2025-02-12 12:34:33.034888: I external/local_xla/xla/tsl/framework/bfc_allocator.cc:1109] InUse at 731a00005900 of size 2048 next 53\n",
      "2025-02-12 12:34:33.034896: I external/local_xla/xla/tsl/framework/bfc_allocator.cc:1109] InUse at 731a00006100 of size 1024 next 46\n",
      "2025-02-12 12:34:33.034905: I external/local_xla/xla/tsl/framework/bfc_allocator.cc:1109] InUse at 731a00006500 of size 1024 next 60\n",
      "2025-02-12 12:34:33.034915: I external/local_xla/xla/tsl/framework/bfc_allocator.cc:1109] InUse at 731a00006900 of size 3072 next 52\n",
      "2025-02-12 12:34:33.034924: I external/local_xla/xla/tsl/framework/bfc_allocator.cc:1109] InUse at 731a00007500 of size 6912 next 49\n",
      "2025-02-12 12:34:33.034934: I external/local_xla/xla/tsl/framework/bfc_allocator.cc:1109] InUse at 731a00009000 of size 281856 next 16\n",
      "2025-02-12 12:34:33.034944: I external/local_xla/xla/tsl/framework/bfc_allocator.cc:1109] InUse at 731a0004dd00 of size 442368 next 20\n",
      "2025-02-12 12:34:33.034954: I external/local_xla/xla/tsl/framework/bfc_allocator.cc:1109] InUse at 731a000b9d00 of size 2064384 next 25\n",
      "2025-02-12 12:34:33.034964: I external/local_xla/xla/tsl/framework/bfc_allocator.cc:1109] InUse at 731a002b1d00 of size 589824 next 15\n",
      "2025-02-12 12:34:33.034974: I external/local_xla/xla/tsl/framework/bfc_allocator.cc:1109] InUse at 731a00341d00 of size 4718592 next 35\n",
      "2025-02-12 12:34:33.034984: I external/local_xla/xla/tsl/framework/bfc_allocator.cc:1109] InUse at 731a007c1d00 of size 2048 next 66\n",
      "2025-02-12 12:34:33.034993: I external/local_xla/xla/tsl/framework/bfc_allocator.cc:1109] InUse at 731a007c2500 of size 2048 next 69\n",
      "2025-02-12 12:34:33.035002: I external/local_xla/xla/tsl/framework/bfc_allocator.cc:1109] InUse at 731a007c2d00 of size 2048 next 73\n",
      "2025-02-12 12:34:33.035011: I external/local_xla/xla/tsl/framework/bfc_allocator.cc:1109] InUse at 731a007c3500 of size 2048 next 76\n",
      "2025-02-12 12:34:33.035021: I external/local_xla/xla/tsl/framework/bfc_allocator.cc:1109] InUse at 731a007c3d00 of size 2048 next 78\n",
      "2025-02-12 12:34:33.035031: I external/local_xla/xla/tsl/framework/bfc_allocator.cc:1109] InUse at 731a007c4500 of size 512 next 58\n",
      "2025-02-12 12:34:33.035040: I external/local_xla/xla/tsl/framework/bfc_allocator.cc:1109] InUse at 731a007c4700 of size 1024 next 64\n",
      "2025-02-12 12:34:33.035049: I external/local_xla/xla/tsl/framework/bfc_allocator.cc:1109] InUse at 731a007c4b00 of size 2048 next 72\n",
      "2025-02-12 12:34:33.035058: I external/local_xla/xla/tsl/framework/bfc_allocator.cc:1109] InUse at 731a007c5300 of size 256 next 70\n",
      "2025-02-12 12:34:33.035067: I external/local_xla/xla/tsl/framework/bfc_allocator.cc:1109] InUse at 731a007c5400 of size 2048 next 83\n",
      "2025-02-12 12:34:33.035076: I external/local_xla/xla/tsl/framework/bfc_allocator.cc:1109] InUse at 731a007c5c00 of size 256 next 71\n",
      "2025-02-12 12:34:33.035097: I external/local_xla/xla/tsl/framework/bfc_allocator.cc:1109] InUse at 731a007c5d00 of size 256 next 84\n",
      "2025-02-12 12:34:33.035106: I external/local_xla/xla/tsl/framework/bfc_allocator.cc:1109] InUse at 731a007c5e00 of size 2048 next 89\n",
      "2025-02-12 12:34:33.035115: I external/local_xla/xla/tsl/framework/bfc_allocator.cc:1109] InUse at 731a007c6600 of size 256 next 87\n",
      "2025-02-12 12:34:33.035124: I external/local_xla/xla/tsl/framework/bfc_allocator.cc:1109] InUse at 731a007c6700 of size 256 next 95\n",
      "2025-02-12 12:34:33.035133: I external/local_xla/xla/tsl/framework/bfc_allocator.cc:1109] InUse at 731a007c6800 of size 256 next 96\n",
      "2025-02-12 12:34:33.035142: I external/local_xla/xla/tsl/framework/bfc_allocator.cc:1109] InUse at 731a007c6900 of size 256 next 88\n",
      "2025-02-12 12:34:33.035151: I external/local_xla/xla/tsl/framework/bfc_allocator.cc:1109] InUse at 731a007c6a00 of size 256 next 99\n",
      "2025-02-12 12:34:33.035160: I external/local_xla/xla/tsl/framework/bfc_allocator.cc:1109] InUse at 731a007c6b00 of size 256 next 100\n",
      "2025-02-12 12:34:33.035169: I external/local_xla/xla/tsl/framework/bfc_allocator.cc:1109] InUse at 731a007c6c00 of size 256 next 101\n",
      "2025-02-12 12:34:33.035178: I external/local_xla/xla/tsl/framework/bfc_allocator.cc:1109] InUse at 731a007c6d00 of size 256 next 50\n",
      "2025-02-12 12:34:33.035187: I external/local_xla/xla/tsl/framework/bfc_allocator.cc:1109] InUse at 731a007c6e00 of size 6912 next 80\n",
      "2025-02-12 12:34:33.035196: I external/local_xla/xla/tsl/framework/bfc_allocator.cc:1109] InUse at 731a007c8900 of size 288000 next 57\n",
      "2025-02-12 12:34:33.035206: I external/local_xla/xla/tsl/framework/bfc_allocator.cc:1109] InUse at 731a0080ee00 of size 442368 next 59\n",
      "2025-02-12 12:34:33.035215: I external/local_xla/xla/tsl/framework/bfc_allocator.cc:1109] Free  at 731a0087ae00 of size 2064384 next 61\n",
      "2025-02-12 12:34:33.035224: I external/local_xla/xla/tsl/framework/bfc_allocator.cc:1109] InUse at 731a00a72e00 of size 589824 next 56\n",
      "2025-02-12 12:34:33.035233: I external/local_xla/xla/tsl/framework/bfc_allocator.cc:1109] InUse at 731a00b02e00 of size 256 next 86\n",
      "2025-02-12 12:34:33.035242: I external/local_xla/xla/tsl/framework/bfc_allocator.cc:1109] InUse at 731a00b02f00 of size 2048 next 90\n",
      "2025-02-12 12:34:33.035251: I external/local_xla/xla/tsl/framework/bfc_allocator.cc:1109] InUse at 731a00b03700 of size 2048 next 91\n",
      "2025-02-12 12:34:33.035260: I external/local_xla/xla/tsl/framework/bfc_allocator.cc:1109] Free  at 731a00b03f00 of size 4096 next 98\n",
      "2025-02-12 12:34:33.035268: I external/local_xla/xla/tsl/framework/bfc_allocator.cc:1109] InUse at 731a00b04f00 of size 2048 next 97\n",
      "2025-02-12 12:34:33.035277: I external/local_xla/xla/tsl/framework/bfc_allocator.cc:1109] Free  at 731a00b05700 of size 1758976 next 63\n",
      "2025-02-12 12:34:33.035287: I external/local_xla/xla/tsl/framework/bfc_allocator.cc:1109] InUse at 731a00cb2e00 of size 1306368 next 38\n",
      "2025-02-12 12:34:33.035297: I external/local_xla/xla/tsl/framework/bfc_allocator.cc:1109] InUse at 731a00df1d00 of size 2359296 next 29\n",
      "2025-02-12 12:34:33.035308: I external/local_xla/xla/tsl/framework/bfc_allocator.cc:1109] InUse at 731a01031d00 of size 2359296 next 42\n",
      "2025-02-12 12:34:33.035318: I external/local_xla/xla/tsl/framework/bfc_allocator.cc:1109] InUse at 731a01271d00 of size 9437184 next 36\n",
      "2025-02-12 12:34:33.035328: I external/local_xla/xla/tsl/framework/bfc_allocator.cc:1109] InUse at 731a01b71d00 of size 9437184 next 48\n",
      "2025-02-12 12:34:33.035337: I external/local_xla/xla/tsl/framework/bfc_allocator.cc:1109] InUse at 731a02471d00 of size 9437184 next 47\n",
      "2025-02-12 12:34:33.035346: I external/local_xla/xla/tsl/framework/bfc_allocator.cc:1109] InUse at 731a02d71d00 of size 9437184 next 11\n",
      "2025-02-12 12:34:33.035354: I external/local_xla/xla/tsl/framework/bfc_allocator.cc:1109] InUse at 731a03671d00 of size 9437184 next 45\n",
      "2025-02-12 12:34:33.035363: I external/local_xla/xla/tsl/framework/bfc_allocator.cc:1109] InUse at 731a03f71d00 of size 2359296 next 62\n",
      "2025-02-12 12:34:33.035373: I external/local_xla/xla/tsl/framework/bfc_allocator.cc:1109] InUse at 731a041b1d00 of size 2359296 next 68\n",
      "2025-02-12 12:34:33.035381: I external/local_xla/xla/tsl/framework/bfc_allocator.cc:1109] InUse at 731a043f1d00 of size 4718592 next 67\n",
      "2025-02-12 12:34:33.035390: I external/local_xla/xla/tsl/framework/bfc_allocator.cc:1109] InUse at 731a04871d00 of size 9437184 next 65\n",
      "2025-02-12 12:34:33.035399: I external/local_xla/xla/tsl/framework/bfc_allocator.cc:1109] InUse at 731a05171d00 of size 9437184 next 75\n",
      "2025-02-12 12:34:33.035408: I external/local_xla/xla/tsl/framework/bfc_allocator.cc:1109] InUse at 731a05a71d00 of size 9437184 next 74\n",
      "2025-02-12 12:34:33.035416: I external/local_xla/xla/tsl/framework/bfc_allocator.cc:1109] InUse at 731a06371d00 of size 9437184 next 77\n",
      "2025-02-12 12:34:33.035425: I external/local_xla/xla/tsl/framework/bfc_allocator.cc:1109] InUse at 731a06c71d00 of size 9437184 next 79\n",
      "2025-02-12 12:34:33.035435: I external/local_xla/xla/tsl/framework/bfc_allocator.cc:1109] InUse at 731a07571d00 of size 1048576 next 85\n",
      "2025-02-12 12:34:33.035444: I external/local_xla/xla/tsl/framework/bfc_allocator.cc:1109] Free  at 731a07671d00 of size 101711872 next 82\n",
      "2025-02-12 12:34:33.035454: I external/local_xla/xla/tsl/framework/bfc_allocator.cc:1109] InUse at 731a0d771d00 of size 51380224 next 26\n",
      "2025-02-12 12:34:33.035464: I external/local_xla/xla/tsl/framework/bfc_allocator.cc:1109] InUse at 731a10871d00 of size 1048576 next 94\n",
      "2025-02-12 12:34:33.035472: I external/local_xla/xla/tsl/framework/bfc_allocator.cc:1109] Free  at 731a10971d00 of size 50331648 next 93\n",
      "2025-02-12 12:34:33.035481: I external/local_xla/xla/tsl/framework/bfc_allocator.cc:1109] InUse at 731a13971d00 of size 51380224 next 92\n",
      "2025-02-12 12:34:33.035491: I external/local_xla/xla/tsl/framework/bfc_allocator.cc:1109] Free  at 731a16a71d00 of size 764863232 next 18446744073709551615\n",
      "2025-02-12 12:34:33.035500: I external/local_xla/xla/tsl/framework/bfc_allocator.cc:1114]      Summary of in-use Chunks by size: \n",
      "2025-02-12 12:34:33.035512: I external/local_xla/xla/tsl/framework/bfc_allocator.cc:1117] 37 Chunks of size 256 totalling 9.2KiB\n",
      "2025-02-12 12:34:33.035523: I external/local_xla/xla/tsl/framework/bfc_allocator.cc:1117] 4 Chunks of size 512 totalling 2.0KiB\n",
      "2025-02-12 12:34:33.035533: I external/local_xla/xla/tsl/framework/bfc_allocator.cc:1117] 6 Chunks of size 1024 totalling 6.0KiB\n",
      "2025-02-12 12:34:33.035543: I external/local_xla/xla/tsl/framework/bfc_allocator.cc:1117] 1 Chunks of size 1280 totalling 1.2KiB\n",
      "2025-02-12 12:34:33.035554: I external/local_xla/xla/tsl/framework/bfc_allocator.cc:1117] 16 Chunks of size 2048 totalling 32.0KiB\n",
      "2025-02-12 12:34:33.035564: I external/local_xla/xla/tsl/framework/bfc_allocator.cc:1117] 1 Chunks of size 2304 totalling 2.2KiB\n",
      "2025-02-12 12:34:33.035574: I external/local_xla/xla/tsl/framework/bfc_allocator.cc:1117] 1 Chunks of size 3072 totalling 3.0KiB\n",
      "2025-02-12 12:34:33.035584: I external/local_xla/xla/tsl/framework/bfc_allocator.cc:1117] 2 Chunks of size 6912 totalling 13.5KiB\n",
      "2025-02-12 12:34:33.035597: I external/local_xla/xla/tsl/framework/bfc_allocator.cc:1117] 1 Chunks of size 281856 totalling 275.2KiB\n",
      "2025-02-12 12:34:33.035608: I external/local_xla/xla/tsl/framework/bfc_allocator.cc:1117] 1 Chunks of size 288000 totalling 281.2KiB\n",
      "2025-02-12 12:34:33.035619: I external/local_xla/xla/tsl/framework/bfc_allocator.cc:1117] 2 Chunks of size 442368 totalling 864.0KiB\n",
      "2025-02-12 12:34:33.035629: I external/local_xla/xla/tsl/framework/bfc_allocator.cc:1117] 2 Chunks of size 589824 totalling 1.12MiB\n",
      "2025-02-12 12:34:33.035639: I external/local_xla/xla/tsl/framework/bfc_allocator.cc:1117] 2 Chunks of size 1048576 totalling 2.00MiB\n",
      "2025-02-12 12:34:33.035649: I external/local_xla/xla/tsl/framework/bfc_allocator.cc:1117] 1 Chunks of size 1306368 totalling 1.25MiB\n",
      "2025-02-12 12:34:33.035659: I external/local_xla/xla/tsl/framework/bfc_allocator.cc:1117] 1 Chunks of size 2064384 totalling 1.97MiB\n",
      "2025-02-12 12:34:33.035670: I external/local_xla/xla/tsl/framework/bfc_allocator.cc:1117] 4 Chunks of size 2359296 totalling 9.00MiB\n",
      "2025-02-12 12:34:33.035680: I external/local_xla/xla/tsl/framework/bfc_allocator.cc:1117] 2 Chunks of size 4718592 totalling 9.00MiB\n",
      "2025-02-12 12:34:33.035691: I external/local_xla/xla/tsl/framework/bfc_allocator.cc:1117] 10 Chunks of size 9437184 totalling 90.00MiB\n",
      "2025-02-12 12:34:33.035701: I external/local_xla/xla/tsl/framework/bfc_allocator.cc:1117] 2 Chunks of size 51380224 totalling 98.00MiB\n",
      "2025-02-12 12:34:33.035712: I external/local_xla/xla/tsl/framework/bfc_allocator.cc:1121] Sum Total of in-use chunks: 213.79MiB\n",
      "2025-02-12 12:34:33.035723: I external/local_xla/xla/tsl/framework/bfc_allocator.cc:1123] Total bytes in pool: 1144913920 memory_limit_: 1144913920 available bytes: 0 curr_region_allocation_bytes_: 2289827840\n",
      "2025-02-12 12:34:33.035740: I external/local_xla/xla/tsl/framework/bfc_allocator.cc:1128] Stats: \n",
      "Limit:                      1144913920\n",
      "InUse:                       224179712\n",
      "MaxInUse:                    376215808\n",
      "NumAllocs:                         436\n",
      "MaxAllocSize:                101711872\n",
      "Reserved:                            0\n",
      "PeakReserved:                        0\n",
      "LargestFreeBlock:                    0\n",
      "\n",
      "2025-02-12 12:34:33.035760: W external/local_xla/xla/tsl/framework/bfc_allocator.cc:508] ***********________******___******__________________________________________________________________\n"
     ]
    },
    {
     "ename": "InternalError",
     "evalue": "Failed copying input tensor from /job:localhost/replica:0/task:0/device:CPU:0 to /job:localhost/replica:0/task:0/device:GPU:0 in order to run _EagerConst: Dst tensor is not initialized.",
     "output_type": "error",
     "traceback": [
      "\u001b[0;31m---------------------------------------------------------------------------\u001b[0m",
      "\u001b[0;31mInternalError\u001b[0m                             Traceback (most recent call last)",
      "Cell \u001b[0;32mIn[47], line 5\u001b[0m\n\u001b[1;32m      1\u001b[0m callback \u001b[38;5;241m=\u001b[39m [\n\u001b[1;32m      2\u001b[0m     EarlyStopping(monitor\u001b[38;5;241m=\u001b[39m\u001b[38;5;124m'\u001b[39m\u001b[38;5;124mval_loss\u001b[39m\u001b[38;5;124m'\u001b[39m, patience\u001b[38;5;241m=\u001b[39m\u001b[38;5;241m15\u001b[39m, verbose\u001b[38;5;241m=\u001b[39m\u001b[38;5;241m1\u001b[39m, mode\u001b[38;5;241m=\u001b[39m\u001b[38;5;124m'\u001b[39m\u001b[38;5;124mauto\u001b[39m\u001b[38;5;124m'\u001b[39m),\n\u001b[1;32m      3\u001b[0m     ModelCheckpoint(weight_path, monitor\u001b[38;5;241m=\u001b[39m\u001b[38;5;124m'\u001b[39m\u001b[38;5;124mval_loss\u001b[39m\u001b[38;5;124m'\u001b[39m, verbose\u001b[38;5;241m=\u001b[39m\u001b[38;5;241m1\u001b[39m, \n\u001b[1;32m      4\u001b[0m                     save_best_only\u001b[38;5;241m=\u001b[39m\u001b[38;5;28;01mTrue\u001b[39;00m, mode\u001b[38;5;241m=\u001b[39m\u001b[38;5;124m'\u001b[39m\u001b[38;5;124mmin\u001b[39m\u001b[38;5;124m'\u001b[39m, save_weights_only \u001b[38;5;241m=\u001b[39m \u001b[38;5;28;01mTrue\u001b[39;00m)]\n\u001b[0;32m----> 5\u001b[0m history \u001b[38;5;241m=\u001b[39m \u001b[43mmodel\u001b[49m\u001b[38;5;241;43m.\u001b[39;49m\u001b[43mfit\u001b[49m\u001b[43m(\u001b[49m\u001b[43mx\u001b[49m\u001b[38;5;241;43m=\u001b[39;49m\u001b[43mx_origin_train\u001b[49m\u001b[43m,\u001b[49m\u001b[43m \u001b[49m\u001b[43my\u001b[49m\u001b[38;5;241;43m=\u001b[39;49m\u001b[43my_train\u001b[49m\u001b[43m,\u001b[49m\u001b[43m \u001b[49m\u001b[43mvalidation_data\u001b[49m\u001b[38;5;241;43m=\u001b[39;49m\u001b[43m(\u001b[49m\u001b[43mx_origin_valid\u001b[49m\u001b[43m,\u001b[49m\u001b[43m \u001b[49m\u001b[43my_valid\u001b[49m\u001b[43m)\u001b[49m\u001b[43m,\u001b[49m\u001b[43m \u001b[49m\u001b[43mbatch_size\u001b[49m\u001b[38;5;241;43m=\u001b[39;49m\u001b[38;5;241;43m16\u001b[39;49m\u001b[43m,\u001b[49m\u001b[43m \u001b[49m\u001b[43mepochs\u001b[49m\u001b[38;5;241;43m=\u001b[39;49m\u001b[38;5;241;43m150\u001b[39;49m\u001b[43m,\u001b[49m\u001b[43m \u001b[49m\u001b[43mcallbacks\u001b[49m\u001b[38;5;241;43m=\u001b[39;49m\u001b[43mcallback\u001b[49m\u001b[43m)\u001b[49m\n",
      "File \u001b[0;32m~/Documentations/SkyScanAI/.venv/lib/python3.10/site-packages/keras/src/utils/traceback_utils.py:122\u001b[0m, in \u001b[0;36mfilter_traceback.<locals>.error_handler\u001b[0;34m(*args, **kwargs)\u001b[0m\n\u001b[1;32m    119\u001b[0m     filtered_tb \u001b[38;5;241m=\u001b[39m _process_traceback_frames(e\u001b[38;5;241m.\u001b[39m__traceback__)\n\u001b[1;32m    120\u001b[0m     \u001b[38;5;66;03m# To get the full stack trace, call:\u001b[39;00m\n\u001b[1;32m    121\u001b[0m     \u001b[38;5;66;03m# `keras.config.disable_traceback_filtering()`\u001b[39;00m\n\u001b[0;32m--> 122\u001b[0m     \u001b[38;5;28;01mraise\u001b[39;00m e\u001b[38;5;241m.\u001b[39mwith_traceback(filtered_tb) \u001b[38;5;28;01mfrom\u001b[39;00m\u001b[38;5;250m \u001b[39m\u001b[38;5;28;01mNone\u001b[39;00m\n\u001b[1;32m    123\u001b[0m \u001b[38;5;28;01mfinally\u001b[39;00m:\n\u001b[1;32m    124\u001b[0m     \u001b[38;5;28;01mdel\u001b[39;00m filtered_tb\n",
      "File \u001b[0;32m~/Documentations/SkyScanAI/.venv/lib/python3.10/site-packages/tensorflow/python/framework/constant_op.py:108\u001b[0m, in \u001b[0;36mconvert_to_eager_tensor\u001b[0;34m(value, ctx, dtype)\u001b[0m\n\u001b[1;32m    106\u001b[0m     dtype \u001b[38;5;241m=\u001b[39m dtypes\u001b[38;5;241m.\u001b[39mas_dtype(dtype)\u001b[38;5;241m.\u001b[39mas_datatype_enum\n\u001b[1;32m    107\u001b[0m ctx\u001b[38;5;241m.\u001b[39mensure_initialized()\n\u001b[0;32m--> 108\u001b[0m \u001b[38;5;28;01mreturn\u001b[39;00m \u001b[43mops\u001b[49m\u001b[38;5;241;43m.\u001b[39;49m\u001b[43mEagerTensor\u001b[49m\u001b[43m(\u001b[49m\u001b[43mvalue\u001b[49m\u001b[43m,\u001b[49m\u001b[43m \u001b[49m\u001b[43mctx\u001b[49m\u001b[38;5;241;43m.\u001b[39;49m\u001b[43mdevice_name\u001b[49m\u001b[43m,\u001b[49m\u001b[43m \u001b[49m\u001b[43mdtype\u001b[49m\u001b[43m)\u001b[49m\n",
      "\u001b[0;31mInternalError\u001b[0m: Failed copying input tensor from /job:localhost/replica:0/task:0/device:CPU:0 to /job:localhost/replica:0/task:0/device:GPU:0 in order to run _EagerConst: Dst tensor is not initialized."
     ]
    }
   ],
   "source": [
    "callback = [\n",
    "    EarlyStopping(monitor='val_loss', patience=15, verbose=1, mode='auto'),\n",
    "    ModelCheckpoint(weight_path, monitor='val_loss', verbose=1, \n",
    "                    save_best_only=True, mode='min', save_weights_only = True)]\n",
    "history = model.fit(x=x_origin_train, y=y_train, validation_data=(x_origin_valid, y_valid), batch_size=16, epochs=150, callbacks=callback)"
   ]
  },
  {
   "cell_type": "code",
   "execution_count": null,
   "metadata": {
    "execution": {
     "iopub.execute_input": "2023-04-19T10:08:31.263523Z",
     "iopub.status.busy": "2023-04-19T10:08:31.262879Z",
     "iopub.status.idle": "2023-04-19T10:08:31.481381Z",
     "shell.execute_reply": "2023-04-19T10:08:31.480247Z",
     "shell.execute_reply.started": "2023-04-19T10:08:31.263484Z"
    },
    "trusted": true
   },
   "outputs": [],
   "source": [
    "# summarize history for loss\n",
    "plt.plot(history.history['loss'])\n",
    "plt.plot(history.history['val_loss'])\n",
    "plt.title('model loss')\n",
    "plt.ylabel('loss')\n",
    "plt.xlabel('epoch')\n",
    "plt.legend(['train', 'validation'], loc='upper left')\n",
    "plt.show()"
   ]
  },
  {
   "cell_type": "code",
   "execution_count": null,
   "metadata": {
    "execution": {
     "iopub.execute_input": "2023-04-19T10:08:31.485112Z",
     "iopub.status.busy": "2023-04-19T10:08:31.484288Z",
     "iopub.status.idle": "2023-04-19T10:08:31.664291Z",
     "shell.execute_reply": "2023-04-19T10:08:31.663219Z",
     "shell.execute_reply.started": "2023-04-19T10:08:31.485068Z"
    },
    "trusted": true
   },
   "outputs": [],
   "source": [
    "model.load_weights(weight_path)"
   ]
  },
  {
   "cell_type": "code",
   "execution_count": null,
   "metadata": {
    "execution": {
     "iopub.execute_input": "2023-04-19T10:08:31.666123Z",
     "iopub.status.busy": "2023-04-19T10:08:31.665716Z",
     "iopub.status.idle": "2023-04-19T10:08:33.350920Z",
     "shell.execute_reply": "2023-04-19T10:08:33.349719Z",
     "shell.execute_reply.started": "2023-04-19T10:08:31.666086Z"
    },
    "trusted": true
   },
   "outputs": [],
   "source": [
    "loss = model.evaluate(x=x_origin_test, y=y_test, batch_size=16)\n",
    "print('RMSE is :', loss ** 0.5)"
   ]
  },
  {
   "cell_type": "code",
   "execution_count": null,
   "metadata": {
    "execution": {
     "iopub.execute_input": "2023-04-19T10:08:33.353508Z",
     "iopub.status.busy": "2023-04-19T10:08:33.353024Z",
     "iopub.status.idle": "2023-04-19T10:08:35.196041Z",
     "shell.execute_reply": "2023-04-19T10:08:35.194800Z",
     "shell.execute_reply.started": "2023-04-19T10:08:33.353467Z"
    },
    "trusted": true
   },
   "outputs": [],
   "source": [
    "y_predict = model.predict(x_origin_test)"
   ]
  },
  {
   "cell_type": "code",
   "execution_count": null,
   "metadata": {
    "execution": {
     "iopub.execute_input": "2023-04-19T10:08:35.198391Z",
     "iopub.status.busy": "2023-04-19T10:08:35.197891Z",
     "iopub.status.idle": "2023-04-19T10:08:35.209563Z",
     "shell.execute_reply": "2023-04-19T10:08:35.208390Z",
     "shell.execute_reply.started": "2023-04-19T10:08:35.198349Z"
    },
    "trusted": true
   },
   "outputs": [],
   "source": [
    "from sklearn.metrics import r2_score\n",
    "\n",
    "r2_score(y_test, y_predict)"
   ]
  },
  {
   "cell_type": "code",
   "execution_count": null,
   "metadata": {
    "execution": {
     "iopub.execute_input": "2023-04-19T10:08:35.212138Z",
     "iopub.status.busy": "2023-04-19T10:08:35.211409Z",
     "iopub.status.idle": "2023-04-19T10:08:35.235758Z",
     "shell.execute_reply": "2023-04-19T10:08:35.234491Z",
     "shell.execute_reply.started": "2023-04-19T10:08:35.212099Z"
    },
    "trusted": true
   },
   "outputs": [],
   "source": [
    "y_predict_pm10 = np.zeros(len(y_predict))\n",
    "\n",
    "for i in range(len(y_predict)):\n",
    "    if y_predict[i] <= 54:\n",
    "        y_predict_pm10[i] = 0\n",
    "    elif y_predict[i] >= 55 and y_predict[i] <= 154:\n",
    "        y_predict_pm10[i] = 1\n",
    "    elif y_predict[i] >= 155 and y_predict[i] <= 254:\n",
    "        y_predict_pm10[i] = 2\n",
    "    elif y_predict[i] >= 255 and y_predict[i] <= 354:\n",
    "        y_predict_pm10[i] = 3\n",
    "    elif y_predict[i] >= 355 and y_predict[i] <= 424:\n",
    "        y_predict_pm10[i] = 4\n",
    "    elif y_predict[i] > 424:\n",
    "        y_predict_pm10[i] = 5\n",
    "    else:\n",
    "        print('Exception Occured!')\n",
    "    \n",
    "y_predict_pm10 = y_predict_pm10.astype(int)\n",
    "    \n",
    "    \n",
    "y_predict_pm10"
   ]
  },
  {
   "cell_type": "code",
   "execution_count": null,
   "metadata": {
    "execution": {
     "iopub.execute_input": "2023-04-19T10:08:35.237986Z",
     "iopub.status.busy": "2023-04-19T10:08:35.237278Z",
     "iopub.status.idle": "2023-04-19T10:08:35.254873Z",
     "shell.execute_reply": "2023-04-19T10:08:35.253337Z",
     "shell.execute_reply.started": "2023-04-19T10:08:35.237933Z"
    },
    "trusted": true
   },
   "outputs": [],
   "source": [
    "y_test = y_test.to_numpy().tolist()\n",
    "y_test"
   ]
  },
  {
   "cell_type": "code",
   "execution_count": null,
   "metadata": {
    "execution": {
     "iopub.execute_input": "2023-04-19T10:08:35.260352Z",
     "iopub.status.busy": "2023-04-19T10:08:35.259805Z",
     "iopub.status.idle": "2023-04-19T10:08:35.268125Z",
     "shell.execute_reply": "2023-04-19T10:08:35.266866Z",
     "shell.execute_reply.started": "2023-04-19T10:08:35.260282Z"
    },
    "trusted": true
   },
   "outputs": [],
   "source": [
    "y_test[1][0]"
   ]
  },
  {
   "cell_type": "code",
   "execution_count": null,
   "metadata": {
    "execution": {
     "iopub.execute_input": "2023-04-19T10:08:35.270973Z",
     "iopub.status.busy": "2023-04-19T10:08:35.269656Z",
     "iopub.status.idle": "2023-04-19T10:08:35.290760Z",
     "shell.execute_reply": "2023-04-19T10:08:35.289229Z",
     "shell.execute_reply.started": "2023-04-19T10:08:35.270931Z"
    },
    "trusted": true
   },
   "outputs": [],
   "source": [
    "#Classify the Ground Truth PM10 concentration to the air quality levels\n",
    "\n",
    "y_test_pm10 = np.zeros(len(y_test))\n",
    "\n",
    "for i in range(len(y_test)):\n",
    "    if int(y_test[i][0])  <= 54:\n",
    "        y_test_pm10[i] = 0\n",
    "    elif int(y_test[i][0]) >= 55 and int(y_test[i][0]) <= 154:\n",
    "        y_test_pm10[i] = 1\n",
    "    elif int(y_test[i][0]) >= 155 and int(y_test[i][0]) <= 254:\n",
    "        y_test_pm10[i] = 2\n",
    "    elif int(y_test[i][0]) >= 255 and int(y_test[i][0]) <= 354:\n",
    "        y_test_pm10[i] = 3\n",
    "    elif int(y_test[i][0]) >= 355 and int(y_test[i][0]) <= 424:\n",
    "        y_test_pm10[i] = 4\n",
    "    elif int(y_test[i][0]) > 424:\n",
    "        y_test_pm10[i] = 5\n",
    "    else:\n",
    "        print('Exception Occured!')\n",
    "\n",
    "y_test_pm10 = y_test_pm10.astype(int)\n",
    "        \n",
    "        \n",
    "y_test_pm10"
   ]
  },
  {
   "cell_type": "code",
   "execution_count": null,
   "metadata": {
    "execution": {
     "iopub.execute_input": "2023-04-19T10:08:35.293672Z",
     "iopub.status.busy": "2023-04-19T10:08:35.293146Z",
     "iopub.status.idle": "2023-04-19T10:08:35.308571Z",
     "shell.execute_reply": "2023-04-19T10:08:35.306906Z",
     "shell.execute_reply.started": "2023-04-19T10:08:35.293629Z"
    },
    "trusted": true
   },
   "outputs": [],
   "source": [
    "from sklearn.metrics import balanced_accuracy_score\n",
    "\n",
    "balanced_accuracy_score(y_test_pm10, y_predict_pm10)"
   ]
  },
  {
   "cell_type": "code",
   "execution_count": null,
   "metadata": {
    "execution": {
     "iopub.execute_input": "2023-04-19T10:08:35.311292Z",
     "iopub.status.busy": "2023-04-19T10:08:35.310563Z",
     "iopub.status.idle": "2023-04-19T10:08:35.324601Z",
     "shell.execute_reply": "2023-04-19T10:08:35.321032Z",
     "shell.execute_reply.started": "2023-04-19T10:08:35.311248Z"
    },
    "trusted": true
   },
   "outputs": [],
   "source": [
    "#---Classification Accuracy for PM2.5---------\n",
    "\n",
    "t = 0\n",
    "n = 0\n",
    "\n",
    "for i in range(len(y_predict_pm10)):\n",
    "    if y_predict_pm10[i] == y_test_pm10[i]:\n",
    "        t = t + 1\n",
    "    else:\n",
    "        n = n + 1\n",
    "        \n",
    "acc = t / len(y_predict_pm10)\n",
    "\n",
    "print('Acc: ', acc, ' True: ', t, ' False: ', n)"
   ]
  },
  {
   "cell_type": "code",
   "execution_count": null,
   "metadata": {
    "execution": {
     "iopub.execute_input": "2023-04-19T10:08:35.326489Z",
     "iopub.status.busy": "2023-04-19T10:08:35.326136Z",
     "iopub.status.idle": "2023-04-19T10:08:35.337429Z",
     "shell.execute_reply": "2023-04-19T10:08:35.336059Z",
     "shell.execute_reply.started": "2023-04-19T10:08:35.326460Z"
    },
    "trusted": true
   },
   "outputs": [],
   "source": [
    "from sklearn.metrics import f1_score\n",
    "\n",
    "f1_score(y_test_pm10, y_predict_pm10, average='macro')"
   ]
  },
  {
   "cell_type": "code",
   "execution_count": null,
   "metadata": {
    "execution": {
     "iopub.execute_input": "2023-04-19T10:08:35.340166Z",
     "iopub.status.busy": "2023-04-19T10:08:35.339237Z",
     "iopub.status.idle": "2023-04-19T10:08:35.754429Z",
     "shell.execute_reply": "2023-04-19T10:08:35.753295Z",
     "shell.execute_reply.started": "2023-04-19T10:08:35.340117Z"
    },
    "trusted": true
   },
   "outputs": [],
   "source": [
    "import seaborn as sns\n",
    "from sklearn.metrics import confusion_matrix\n",
    "Y_pred_classes = y_predict_pm10\n",
    "Y_true = y_test_pm10\n",
    "confusion_mtx = confusion_matrix(Y_true, Y_pred_classes)\n",
    "f,ax = plt.subplots(figsize=(8, 8))\n",
    "sns.heatmap(confusion_mtx, annot=True, linewidths=0.01,cmap=\"Greens\",linecolor=\"gray\", fmt= '.1f',ax=ax)\n",
    "plt.xlabel(\"Predicted Label\")\n",
    "plt.ylabel(\"True Label\")\n",
    "plt.title(\"Confusion Matrix\")\n",
    "plt.show()"
   ]
  },
  {
   "cell_type": "code",
   "execution_count": null,
   "metadata": {
    "execution": {
     "iopub.execute_input": "2023-04-19T10:08:35.757594Z",
     "iopub.status.busy": "2023-04-19T10:08:35.756409Z",
     "iopub.status.idle": "2023-04-19T10:08:36.037245Z",
     "shell.execute_reply": "2023-04-19T10:08:36.036158Z",
     "shell.execute_reply.started": "2023-04-19T10:08:35.757553Z"
    },
    "trusted": true
   },
   "outputs": [],
   "source": [
    "plt.plot(y_test, label='True Label')\n",
    "plt.plot(y_predict, label='Estimation Value')\n",
    "\n",
    "# set the x-axis label\n",
    "plt.xlabel('Index')\n",
    "\n",
    "# set the y-axis label\n",
    "plt.ylabel('Value')\n",
    "\n",
    "# set the plot title\n",
    "plt.title('True vs Estimation')\n",
    "\n",
    "# Adding a legend\n",
    "plt.legend()\n",
    "\n",
    "# display the plot\n",
    "plt.show()"
   ]
  }
 ],
 "metadata": {
  "kernelspec": {
   "display_name": ".venv",
   "language": "python",
   "name": "python3"
  },
  "language_info": {
   "codemirror_mode": {
    "name": "ipython",
    "version": 3
   },
   "file_extension": ".py",
   "mimetype": "text/x-python",
   "name": "python",
   "nbconvert_exporter": "python",
   "pygments_lexer": "ipython3",
   "version": "3.10.12"
  }
 },
 "nbformat": 4,
 "nbformat_minor": 4
}
